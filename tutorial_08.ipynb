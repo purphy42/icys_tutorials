{
 "cells": [
  {
   "cell_type": "markdown",
   "metadata": {},
   "source": [
    "# Tutorial 8: Create supercell"
   ]
  },
  {
   "cell_type": "markdown",
   "metadata": {},
   "source": [
    "## Import libraries"
   ]
  },
  {
   "cell_type": "code",
   "execution_count": 1,
   "metadata": {},
   "outputs": [
    {
     "name": "stdout",
     "output_type": "stream",
     "text": [
      "/home/t.goryacheva/simanrc.py was read\n"
     ]
    }
   ],
   "source": [
    "import siman #program package to manage DFT calculations https://github.com/dimonaks/siman\n",
    "from siman.calc_manage import smart_structure_read, get_structure_from_matproj\n",
    "from siman.calc_manage import add, res\n",
    "from siman.set_functions import read_vasp_sets\n",
    "from siman.database import write_database, read_database\n",
    "from siman.header import db\n",
    "read_database() # read saved database if available\n",
    "import project_sets # should be after read_database\n",
    "varset = read_vasp_sets(project_sets.user_vasp_sets, override_global = 0) #read user sets\n",
    "\n",
    "\n",
    "%matplotlib inline"
   ]
  },
  {
   "cell_type": "markdown",
   "metadata": {},
   "source": [
    "## Create supercell for Li"
   ]
  },
  {
   "cell_type": "code",
   "execution_count": 3,
   "metadata": {},
   "outputs": [],
   "source": [
    "st = smart_structure_read('Li2_POSCAR')  # read structure from file"
   ]
  },
  {
   "cell_type": "code",
   "execution_count": 4,
   "metadata": {},
   "outputs": [],
   "source": [
    "from siman.geo import ortho_vec, create_supercell # import functions for creating supercells"
   ]
  },
  {
   "cell_type": "code",
   "execution_count": 5,
   "metadata": {},
   "outputs": [
    {
     "name": "stdout",
     "output_type": "stream",
     "text": [
      "-- Calculating mul_matrix for ortho: [10, 10, 10] \n",
      "\n",
      "mul_matrix_float:\n",
      " [[2.86450874 0.         0.        ]\n",
      " [0.         2.86450874 0.        ]\n",
      " [0.         0.         2.86450874]] \n",
      "mul_matrix:\n",
      " [[3 0 0]\n",
      " [0 3 0]\n",
      " [0 0 3]] \n",
      "Old vectors (rprimd):\n",
      " [[3.5 0.  0. ]\n",
      " [0.  3.5 0. ]\n",
      " [0.  0.  3.5]] \n",
      "New vectors (rprimd) of supercell:\n",
      " [[10.47  0.    0.  ]\n",
      " [ 0.   10.47  0.  ]\n",
      " [ 0.    0.   10.47]] \n",
      "The supercell should contain 54.00000000000001 atoms ... \n",
      "  -- OK \n",
      "\n",
      "-- File xyz/Li_supercell.xyz was written \n",
      "\n"
     ]
    },
    {
     "data": {
      "text/plain": [
       "('xyz/Li_supercell.xyz', None)"
      ]
     },
     "execution_count": 5,
     "metadata": {},
     "output_type": "execute_result"
    }
   ],
   "source": [
    "mul_matrix = ortho_vec(st.rprimd, [10,10,10]) # matrix which allows to obtain supercell close to 10x10x10 A cube \n",
    "sc = create_supercell(st, mul_matrix)\n",
    "sc.write_xyz(filename = 'Li_supercell')"
   ]
  },
  {
   "cell_type": "markdown",
   "metadata": {},
   "source": [
    "**Download created file and open it by Jmol or VESTA**"
   ]
  },
  {
   "cell_type": "markdown",
   "metadata": {},
   "source": [
    "## Create supercell for LiCoO2"
   ]
  },
  {
   "cell_type": "code",
   "execution_count": 6,
   "metadata": {},
   "outputs": [
    {
     "name": "stdout",
     "output_type": "stream",
     "text": [
      "Structure mp-22526 downloaded from materialsproject.org\n",
      " File mp-22526.POSCAR was written \n",
      "\n",
      "Full Formula (Li1 Co1 O2)\n",
      "Reduced Formula: LiCoO2\n",
      "abc   :   4.992713   4.992713   4.992713\n",
      "angles:  33.082406  33.082406  33.082398\n",
      "Sites (4)\n",
      "  #  SP           a         b         c\n",
      "---  ----  --------  --------  --------\n",
      "  0  Li    0         0         0\n",
      "  1  Co    0.5       0.5       0.5\n",
      "  2  O     0.760413  0.760413  0.760413\n",
      "  3  O     0.239587  0.239587  0.239587\n"
     ]
    }
   ],
   "source": [
    "st = get_structure_from_matproj(mat_proj_id = 'mp-22526') # get structure from Materials Project by key\n",
    "st.printme()"
   ]
  },
  {
   "cell_type": "code",
   "execution_count": 9,
   "metadata": {},
   "outputs": [
    {
     "name": "stdout",
     "output_type": "stream",
     "text": [
      "-- Calculating mul_matrix for ortho: [10, 10, 10] \n",
      "\n",
      "mul_matrix_float:\n",
      " [[ 1.04469388  1.04469388  0.        ]\n",
      " [-3.51753739  3.51753739  0.        ]\n",
      " [-1.87955382 -1.87955382  4.12276268]] \n",
      "mul_matrix:\n",
      " [[ 1  1  0]\n",
      " [-4  4  0]\n",
      " [-2 -2  4]] \n",
      "Old vectors (rprimd):\n",
      " [[ 4.8 -1.4  0. ]\n",
      " [ 4.8  1.4  0. ]\n",
      " [ 4.4  0.   2.4]] \n",
      "New vectors (rprimd) of supercell:\n",
      " [[ 9.57  0.    0.  ]\n",
      " [ 0.   11.37  0.  ]\n",
      " [-1.69  0.    9.7 ]] \n",
      "The supercell should contain 128.0 atoms ... \n",
      "  -- OK \n",
      "\n",
      "-- File xyz/LiCoO2_supercell.xyz was written \n",
      "\n"
     ]
    },
    {
     "ename": "AttributeError",
     "evalue": "'Structure' object has no attribute 'write_potcars'",
     "output_type": "error",
     "traceback": [
      "\u001b[0;31m---------------------------------------------------------------------------\u001b[0m",
      "\u001b[0;31mAttributeError\u001b[0m                            Traceback (most recent call last)",
      "\u001b[0;32m<ipython-input-9-a6ce98ca4c53>\u001b[0m in \u001b[0;36m<module>\u001b[0;34m()\u001b[0m\n\u001b[1;32m      2\u001b[0m \u001b[0msc\u001b[0m \u001b[0;34m=\u001b[0m \u001b[0mcreate_supercell\u001b[0m\u001b[0;34m(\u001b[0m\u001b[0mst\u001b[0m\u001b[0;34m,\u001b[0m \u001b[0mmul_matrix\u001b[0m\u001b[0;34m)\u001b[0m\u001b[0;34m\u001b[0m\u001b[0m\n\u001b[1;32m      3\u001b[0m \u001b[0msc\u001b[0m\u001b[0;34m.\u001b[0m\u001b[0mwrite_xyz\u001b[0m\u001b[0;34m(\u001b[0m\u001b[0mfilename\u001b[0m \u001b[0;34m=\u001b[0m \u001b[0;34m'LiCoO2_supercell'\u001b[0m\u001b[0;34m)\u001b[0m\u001b[0;34m\u001b[0m\u001b[0m\n\u001b[0;32m----> 4\u001b[0;31m \u001b[0msc\u001b[0m\u001b[0;34m.\u001b[0m\u001b[0mwrite_potcars\u001b[0m\u001b[0;34m(\u001b[0m\u001b[0;34m)\u001b[0m\u001b[0;34m\u001b[0m\u001b[0m\n\u001b[0m",
      "\u001b[0;31mAttributeError\u001b[0m: 'Structure' object has no attribute 'write_potcars'"
     ]
    }
   ],
   "source": [
    "mul_matrix = ortho_vec(st.rprimd, [10,10,10]) # matrix which allows to obtain supercell close to 10x10x10 A cube \n",
    "sc = create_supercell(st, mul_matrix)\n",
    "sc.write_xyz(filename = 'LiCoO2_supercell')\n"
   ]
  },
  {
   "cell_type": "markdown",
   "metadata": {},
   "source": [
    "**Download created file and open it by Jmol or VESTA**"
   ]
  },
  {
   "cell_type": "code",
   "execution_count": null,
   "metadata": {},
   "outputs": [],
   "source": [
    "write_database()"
   ]
  }
 ],
 "metadata": {
  "kernelspec": {
   "display_name": "Python 3",
   "language": "python",
   "name": "python3"
  },
  "language_info": {
   "codemirror_mode": {
    "name": "ipython",
    "version": 3
   },
   "file_extension": ".py",
   "mimetype": "text/x-python",
   "name": "python",
   "nbconvert_exporter": "python",
   "pygments_lexer": "ipython3",
   "version": "3.6.5"
  }
 },
 "nbformat": 4,
 "nbformat_minor": 2
}
