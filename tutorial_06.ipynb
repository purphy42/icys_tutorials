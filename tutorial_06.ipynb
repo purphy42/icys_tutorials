{
 "cells": [
  {
   "cell_type": "markdown",
   "metadata": {},
   "source": [
    "# Tutorial 6: Optimization of lattice parameters "
   ]
  },
  {
   "cell_type": "markdown",
   "metadata": {},
   "source": [
    "## Import libraries"
   ]
  },
  {
   "cell_type": "code",
   "execution_count": 1,
   "metadata": {},
   "outputs": [
    {
     "name": "stdout",
     "output_type": "stream",
     "text": [
      "/home/t.goryacheva/simanrc.py was read\n"
     ]
    }
   ],
   "source": [
    "import siman #program package to manage DFT calculations https://github.com/dimonaks/siman\n",
    "from siman.calc_manage import smart_structure_read, get_structure_from_matproj\n",
    "from siman.calc_manage import add, res\n",
    "from siman.set_functions import read_vasp_sets\n",
    "from siman.database import write_database, read_database\n",
    "from siman.header import db\n",
    "read_database() # read saved database if available\n",
    "import project_sets # should be after read_database\n",
    "varset = read_vasp_sets(project_sets.user_vasp_sets, override_global = 0) #read user sets\n",
    "\n",
    "\n",
    "%matplotlib inline\n",
    "import warnings\n",
    "warnings.filterwarnings('ignore')"
   ]
  },
  {
   "cell_type": "markdown",
   "metadata": {},
   "source": [
    "## Read POSCAR"
   ]
  },
  {
   "cell_type": "markdown",
   "metadata": {},
   "source": [
    "**Every calculation object which can be called as *db['name.set.number']* includes two structure objects:**\n",
    "\n",
    "*db[...].init* - with initial geometry\n",
    "\n",
    "*db[...].end* - with geometry after DFT calculation, which can differ from initial one if relaxation was occured***"
   ]
  },
  {
   "cell_type": "code",
   "execution_count": 2,
   "metadata": {},
   "outputs": [
    {
     "name": "stdout",
     "output_type": "stream",
     "text": [
      "Full Formula (Li2)\n",
      "Reduced Formula: Li\n",
      "abc   :   3.491000   3.491000   3.491000\n",
      "angles:  90.000000  90.000000  90.000000\n",
      "Sites (2)\n",
      "  #  SP      a    b    c\n",
      "---  ----  ---  ---  ---\n",
      "  0  Li    0    0    0\n",
      "  1  Li    0.5  0.5  0.5\n"
     ]
    }
   ],
   "source": [
    "st = db['Li.static_opt.1'].end #structure object with end geometry\n",
    "st.printme()"
   ]
  },
  {
   "cell_type": "markdown",
   "metadata": {},
   "source": [
    "## Create a new set for ionic relaxation"
   ]
  },
  {
   "cell_type": "markdown",
   "metadata": {},
   "source": [
    "We add a key NSW = 20 that means to perform DFT calculation with 20 relaxation steps.\n",
    "\n",
    "The key ISIF responds for relaxation type, 2 means only ionic relaxation. See VASP manual for more information"
   ]
  },
  {
   "cell_type": "code",
   "execution_count": 3,
   "metadata": {},
   "outputs": [
    {
     "name": "stdout",
     "output_type": "stream",
     "text": [
      "\n",
      "Attention! You have chosen to override set ion_relax_opt\n",
      " \n",
      "\n",
      "Warning! You did not change  ISIF  in ion_relax_opt set\n",
      " \n",
      "\n",
      "NSW =  20\n"
     ]
    }
   ],
   "source": [
    "varset = read_vasp_sets([('ion_relax_opt', 'static_opt', {'ISIF':2, 'NSW':20, 'EDIFFG':-0.025}, 'override')]) #new set 'ion_relax' from 'static' with 'NSW' = 20\n",
    "print('NSW = ', varset['ion_relax_opt'].vasp_params['NSW'])"
   ]
  },
  {
   "cell_type": "code",
   "execution_count": 4,
   "metadata": {},
   "outputs": [
    {
     "name": "stdout",
     "output_type": "stream",
     "text": [
      "-- Attention!, cluster None is not found, using default raz \n",
      "\n",
      "Warning! TOO FEW BANDS!!!\n",
      "\n",
      "\n",
      "Warning! TOO FEW BANDS!!!\n",
      " \n",
      "\n",
      "--                           |  energy(eV)|    Vector lenghts (A)   | Stresses (MPa)     | N MD, N SCF    \n",
      "-- db['Li.ion_relax_opt.1']      |Li.ion_relax_opt.1|  -3.7941   |3.49, 3.49, 3.49|  -535,-535,-535    |   1, 9,  9    \n",
      "-- check_kpoints(): Kpoint   mesh is:  [9, 9, 9] \n",
      "\n",
      "-- check_kpoints(): The actual k-spacings are  [0.2 0.2 0.2] \n",
      "\n",
      "-- POSCAR was written to Li///Li.ion_relax_opt/1.POSCAR \n",
      "\n",
      "-- Attention! ngkpt =  [9, 9, 9]  is adopted from struct_des which you provided for it  Li  and kspacing =  0.2 \n",
      "\n",
      "\n",
      "Calculation ('Li', 'ion_relax_opt', 1) successfully created\n",
      "\n",
      " \n",
      "\n"
     ]
    },
    {
     "data": {
      "text/plain": [
       "'Li'"
      ]
     },
     "execution_count": 4,
     "metadata": {},
     "output_type": "execute_result"
    }
   ],
   "source": [
    "add('Li', 'ion_relax_opt', 1, input_st = st, it_folder = 'Li/', run = 0)"
   ]
  },
  {
   "cell_type": "code",
   "execution_count": 5,
   "metadata": {},
   "outputs": [
    {
     "name": "stdout",
     "output_type": "stream",
     "text": [
      "Warning! TOO FEW BANDS!!!\n",
      "\n",
      "\n",
      "Warning! TOO FEW BANDS!!!\n",
      " \n",
      "\n",
      "\n",
      "\n",
      "Max. F. tot  (meV/A) = \n",
      "[0]; \n",
      "\n",
      "--                           |  energy(eV)|    Vector lenghts (A)   | Stresses (MPa)     | N MD, N SCF    \n",
      "-- db['Li.ion_relax_opt.1']      |Li.ion_relax_opt.1|  -3.7941   |3.49, 3.49, 3.49|  -535,-535,-535    |   1, 9,  9    \n"
     ]
    },
    {
     "data": {
      "text/plain": [
       "([\"db['Li.ion_relax_opt.1']      |Li.ion_relax_opt.1|  -3.7941   |3.49, 3.49, 3.49|  -535,-535,-535    |   1, 9,  9   \"],\n",
       " [])"
      ]
     },
     "execution_count": 5,
     "metadata": {},
     "output_type": "execute_result"
    }
   ],
   "source": [
    "res('Li', 'ion_relax_opt', 1)"
   ]
  },
  {
   "cell_type": "markdown",
   "metadata": {},
   "source": [
    "## Relaxation energy"
   ]
  },
  {
   "cell_type": "code",
   "execution_count": 6,
   "metadata": {},
   "outputs": [
    {
     "name": "stdout",
     "output_type": "stream",
     "text": [
      "Relaxation energy = 9.99999993922529e-06 meV\n"
     ]
    }
   ],
   "source": [
    "E_relax = 1000*(db['Li', 'ion_relax_opt', 1].e0 - db['Li', 'static_opt', 1].e0) #in meV\n",
    "print(f'Relaxation energy = {E_relax} meV')\n"
   ]
  },
  {
   "cell_type": "markdown",
   "metadata": {},
   "source": [
    "## Optimize cell volume"
   ]
  },
  {
   "cell_type": "code",
   "execution_count": 7,
   "metadata": {},
   "outputs": [
    {
     "name": "stdout",
     "output_type": "stream",
     "text": [
      "-- Attention!, cluster None is not found, using default raz \n",
      "\n",
      "-- add_loop_scale(): Preparing   scale  calculation ...  \n",
      "\n",
      "-- inherit_ngkpt(): the k-grid from Li was inherited to Li.su \n",
      "\n",
      "-- File xyz/Li.static_opt.1.end_used_for_scaling.xyz was written \n",
      "\n",
      "-- Scale_region is (-5, 5) \n",
      "\n",
      "Scales are [-5.         -3.33333333 -1.66666667  0.          1.66666667  3.33333333\n",
      "  5.        ] \n",
      "\n",
      "-- Warning! File ./Li//Li.su/Li.su.auto_created_scaled_image.1.geo was replaced \n",
      "\n",
      "-- File xyz/Li.su.1.xyz was written \n",
      "\n",
      "-- Warning! File ./Li//Li.su/Li.su.auto_created_scaled_image.2.geo was replaced \n",
      "\n",
      "-- File xyz/Li.su.2.xyz was written \n",
      "\n",
      "-- Warning! File ./Li//Li.su/Li.su.auto_created_scaled_image.3.geo was replaced \n",
      "\n",
      "-- File xyz/Li.su.3.xyz was written \n",
      "\n",
      "-- Warning! File ./Li//Li.su/Li.su.auto_created_scaled_image.4.geo was replaced \n",
      "\n",
      "-- File xyz/Li.su.4.xyz was written \n",
      "\n",
      "-- Warning! File ./Li//Li.su/Li.su.auto_created_scaled_image.5.geo was replaced \n",
      "\n",
      "-- File xyz/Li.su.5.xyz was written \n",
      "\n",
      "-- Warning! File ./Li//Li.su/Li.su.auto_created_scaled_image.6.geo was replaced \n",
      "\n",
      "-- File xyz/Li.su.6.xyz was written \n",
      "\n",
      "-- Warning! File ./Li//Li.su/Li.su.auto_created_scaled_image.7.geo was replaced \n",
      "\n",
      "-- File xyz/Li.su.7.xyz was written \n",
      "\n",
      "-- 7 scale images have been created. \n",
      "\n",
      "Warning! TOO FEW BANDS!!!\n",
      "\n",
      "\n",
      "Warning! TOO FEW BANDS!!!\n",
      " \n",
      "\n",
      "--                           |  energy(eV)|    Vector lenghts (A)   | Stresses (MPa)     | N MD, N SCF    \n",
      "-- db['Li.su.ion_relax_opt.1']   |Li.su.ion_relax_opt.1|  -3.7734   |3.32, 3.32, 3.32|  1855,1855,1855    |   1,10, 10    \n",
      "-- check_kpoints(): Kpoint   mesh is:  [9, 9, 9] \n",
      "\n",
      "-- check_kpoints(): The actual k-spacings are  [0.21 0.21 0.21] \n",
      "\n",
      "-- POSCAR was written to Li///Li.su.ion_relax_opt/1.POSCAR \n",
      "\n",
      "\n",
      "Calculation ('Li.su', 'ion_relax_opt', 1) successfully created\n",
      "\n",
      " \n",
      "\n",
      "Warning! TOO FEW BANDS!!!\n",
      "\n",
      "\n",
      "Warning! TOO FEW BANDS!!!\n",
      " \n",
      "\n",
      "--                           |  energy(eV)|    Vector lenghts (A)   | Stresses (MPa)     | N MD, N SCF    \n",
      "-- db['Li.su.ion_relax_opt.2']   |Li.su.ion_relax_opt.2|  -3.7905   |3.38, 3.38, 3.38|    950,950,950     |   1, 9,  9    \n",
      "-- check_kpoints(): Kpoint   mesh is:  [9, 9, 9] \n",
      "\n",
      "-- check_kpoints(): The actual k-spacings are  [0.21 0.21 0.21] \n",
      "\n",
      "-- POSCAR was written to Li///Li.su.ion_relax_opt/2.POSCAR \n",
      "\n",
      "\n",
      "Calculation ('Li.su', 'ion_relax_opt', 2) successfully created\n",
      "\n",
      " \n",
      "\n",
      "Warning! TOO FEW BANDS!!!\n",
      "\n",
      "\n",
      "Warning! TOO FEW BANDS!!!\n",
      " \n",
      "\n",
      "--                           |  energy(eV)|    Vector lenghts (A)   | Stresses (MPa)     | N MD, N SCF    \n",
      "-- db['Li.su.ion_relax_opt.3']   |Li.su.ion_relax_opt.3|  -3.7970   |3.43, 3.43, 3.43|    125,125,125     |   1, 9,  9    \n",
      "-- check_kpoints(): Kpoint   mesh is:  [9, 9, 9] \n",
      "\n",
      "-- check_kpoints(): The actual k-spacings are  [0.2 0.2 0.2] \n",
      "\n",
      "-- POSCAR was written to Li///Li.su.ion_relax_opt/3.POSCAR \n",
      "\n",
      "\n",
      "Calculation ('Li.su', 'ion_relax_opt', 3) successfully created\n",
      "\n",
      " \n",
      "\n",
      "Warning! TOO FEW BANDS!!!\n",
      "\n",
      "\n",
      "Warning! TOO FEW BANDS!!!\n",
      " \n",
      "\n",
      "--                           |  energy(eV)|    Vector lenghts (A)   | Stresses (MPa)     | N MD, N SCF    \n",
      "-- db['Li.su.ion_relax_opt.4']   |Li.su.ion_relax_opt.4|  -3.7941   |3.49, 3.49, 3.49|  -535,-535,-535    |   1, 9,  9    \n",
      "-- check_kpoints(): Kpoint   mesh is:  [9, 9, 9] \n",
      "\n",
      "-- check_kpoints(): The actual k-spacings are  [0.2 0.2 0.2] \n",
      "\n",
      "-- POSCAR was written to Li///Li.su.ion_relax_opt/4.POSCAR \n",
      "\n",
      "\n",
      "Calculation ('Li.su', 'ion_relax_opt', 4) successfully created\n",
      "\n",
      " \n",
      "\n",
      "Warning! TOO FEW BANDS!!!\n",
      "\n",
      "\n",
      "Warning! TOO FEW BANDS!!!\n",
      " \n",
      "\n",
      "--                           |  energy(eV)|    Vector lenghts (A)   | Stresses (MPa)     | N MD, N SCF    \n",
      "-- db['Li.su.ion_relax_opt.5']   |Li.su.ion_relax_opt.5|  -3.7830   |3.55, 3.55, 3.55| -1078,-1078,-1078  |   1, 9,  9    \n",
      "-- check_kpoints(): Kpoint   mesh is:  [9, 9, 9] \n",
      "\n",
      "-- check_kpoints(): The actual k-spacings are  [0.2 0.2 0.2] \n",
      "\n",
      "-- POSCAR was written to Li///Li.su.ion_relax_opt/5.POSCAR \n",
      "\n",
      "\n",
      "Calculation ('Li.su', 'ion_relax_opt', 5) successfully created\n",
      "\n",
      " \n",
      "\n",
      "Warning! TOO FEW BANDS!!!\n",
      "\n",
      "\n",
      "Warning! TOO FEW BANDS!!!\n",
      " \n",
      "\n",
      "--                           |  energy(eV)|    Vector lenghts (A)   | Stresses (MPa)     | N MD, N SCF    \n",
      "-- db['Li.su.ion_relax_opt.6']   |Li.su.ion_relax_opt.6|  -3.7647   |3.61, 3.61, 3.61| -1521,-1521,-1521  |   1, 9,  9    \n",
      "-- check_kpoints(): Kpoint   mesh is:  [9, 9, 9] \n",
      "\n",
      "-- check_kpoints(): The actual k-spacings are  [0.19 0.19 0.19] \n",
      "\n",
      "-- POSCAR was written to Li///Li.su.ion_relax_opt/6.POSCAR \n",
      "\n",
      "\n",
      "Calculation ('Li.su', 'ion_relax_opt', 6) successfully created\n",
      "\n",
      " \n",
      "\n",
      "Warning! TOO FEW BANDS!!!\n",
      "\n",
      "\n",
      "Warning! TOO FEW BANDS!!!\n",
      " \n",
      "\n",
      "--                           |  energy(eV)|    Vector lenghts (A)   | Stresses (MPa)     | N MD, N SCF    \n",
      "-- db['Li.su.ion_relax_opt.7']   |Li.su.ion_relax_opt.7|  -3.7399   |3.67, 3.67, 3.67| -1907,-1907,-1907  |   1, 9,  9    \n",
      "-- check_kpoints(): Kpoint   mesh is:  [9, 9, 9] \n",
      "\n",
      "-- check_kpoints(): The actual k-spacings are  [0.19 0.19 0.19] \n",
      "\n",
      "-- POSCAR was written to Li///Li.su.ion_relax_opt/7.POSCAR \n",
      "\n",
      "-- Attention! ngkpt =  [9, 9, 9]  is adopted from struct_des which you provided for it  Li.su  and kspacing =  0.2 \n",
      "\n",
      "\n",
      "Calculation ('Li.su', 'ion_relax_opt', 7) successfully created\n",
      "\n",
      " \n",
      "\n"
     ]
    },
    {
     "data": {
      "text/plain": [
       "'Li.su'"
      ]
     },
     "execution_count": 7,
     "metadata": {},
     "output_type": "execute_result"
    }
   ],
   "source": [
    "add('Li', 'ion_relax_opt', 1, input_st = st, it_folder = 'Li/', \n",
    "    calc_method = 'uniform_scale', scale_region = (-5, 5), run = 0)"
   ]
  },
  {
   "cell_type": "code",
   "execution_count": 8,
   "metadata": {},
   "outputs": [
    {
     "name": "stdout",
     "output_type": "stream",
     "text": [
      "Warning! TOO FEW BANDS!!!\n",
      "\n",
      "\n",
      "Warning! TOO FEW BANDS!!!\n",
      " \n",
      "\n",
      "--                           |  energy(eV)|    Vector lenghts (A)   | Stresses (MPa)     | N MD, N SCF    \n",
      "-- db['Li.su.ion_relax_opt.1']   |Li.su.ion_relax_opt.1|  -3.7734   |3.32, 3.32, 3.32|  1855,1855,1855    |   1,10, 10    \n",
      "Warning! TOO FEW BANDS!!!\n",
      "\n",
      "\n",
      "Warning! TOO FEW BANDS!!!\n",
      " \n",
      "\n",
      "-- db['Li.su.ion_relax_opt.2']   |Li.su.ion_relax_opt.2|  -3.7905   |3.38, 3.38, 3.38|    950,950,950     |   1, 9,  9    \n",
      "Warning! TOO FEW BANDS!!!\n",
      "\n",
      "\n",
      "Warning! TOO FEW BANDS!!!\n",
      " \n",
      "\n",
      "-- db['Li.su.ion_relax_opt.3']   |Li.su.ion_relax_opt.3|  -3.7970   |3.43, 3.43, 3.43|    125,125,125     |   1, 9,  9    \n",
      "Warning! TOO FEW BANDS!!!\n",
      "\n",
      "\n",
      "Warning! TOO FEW BANDS!!!\n",
      " \n",
      "\n",
      "-- db['Li.su.ion_relax_opt.4']   |Li.su.ion_relax_opt.4|  -3.7941   |3.49, 3.49, 3.49|  -535,-535,-535    |   1, 9,  9    \n",
      "Warning! TOO FEW BANDS!!!\n",
      "\n",
      "\n",
      "Warning! TOO FEW BANDS!!!\n",
      " \n",
      "\n",
      "-- db['Li.su.ion_relax_opt.5']   |Li.su.ion_relax_opt.5|  -3.7830   |3.55, 3.55, 3.55| -1078,-1078,-1078  |   1, 9,  9    \n",
      "Warning! TOO FEW BANDS!!!\n",
      "\n",
      "\n",
      "Warning! TOO FEW BANDS!!!\n",
      " \n",
      "\n",
      "-- db['Li.su.ion_relax_opt.6']   |Li.su.ion_relax_opt.6|  -3.7647   |3.61, 3.61, 3.61| -1521,-1521,-1521  |   1, 9,  9    \n",
      "Warning! TOO FEW BANDS!!!\n",
      "\n",
      "\n",
      "Warning! TOO FEW BANDS!!!\n",
      " \n",
      "\n",
      "-- db['Li.su.ion_relax_opt.7']   |Li.su.ion_relax_opt.7|  -3.7399   |3.67, 3.67, 3.67| -1907,-1907,-1907  |   1, 9,  9    \n"
     ]
    },
    {
     "name": "stderr",
     "output_type": "stream",
     "text": [
      "The PostScript backend does not support transparency; partially transparent artists will be rendered opaque.\n",
      "The PostScript backend does not support transparency; partially transparent artists will be rendered opaque.\n",
      "The PostScript backend does not support transparency; partially transparent artists will be rendered opaque.\n",
      "The PostScript backend does not support transparency; partially transparent artists will be rendered opaque.\n",
      "The PostScript backend does not support transparency; partially transparent artists will be rendered opaque.\n"
     ]
    },
    {
     "name": "stdout",
     "output_type": "stream",
     "text": [
      "Warning! TOO FEW BANDS!!!\n",
      "\n",
      "\n",
      "Warning! TOO FEW BANDS!!!\n",
      " \n",
      "\n",
      "-- db['Li.su.ion_relax_opt.100'] |Li.su.ion_relax_opt.100|  -3.7971   |3.44, 3.44, 3.44|    -29,-29,-29     |   1, 9,  9    \n",
      "alpha, energy: 90.00, -3.773\n",
      "alpha, energy: 90.00, -3.791\n",
      "alpha, energy: 90.00, -3.797\n",
      "alpha, energy: 90.00, -3.794\n",
      "alpha, energy: 90.00, -3.783\n",
      "alpha, energy: 90.00, -3.765\n",
      "alpha, energy: 90.00, -3.740\n",
      "alpha, energy: 90.00, -3.797\n",
      "-- Image saved to  figs/angle.eps \n",
      "\n",
      "\n",
      "            v0 = 40.81196646953933 A^3\n",
      "            a0 = 3.4429377754071333 A\n",
      "            E0 = -3.7971346543688886 eV\n",
      "            B  = 0.08715258966209205 eV/A^3 \n",
      "\n"
     ]
    },
    {
     "data": {
      "image/png": "[encoded data removed]",
      "text/plain": [
       "<Figure size 432x288 with 1 Axes>"
      ]
     },
     "metadata": {},
     "output_type": "display_data"
    },
    {
     "name": "stdout",
     "output_type": "stream",
     "text": [
      "-- fit results are saved in  figs/Li.su.ion_relax_opt.100.png \n",
      "\n"
     ]
    },
    {
     "data": {
      "text/plain": [
       "([\"db['Li.su.ion_relax_opt.100'] |Li.su.ion_relax_opt.100|  -3.7971   |3.44, 3.44, 3.44|    -29,-29,-29     |   1, 9,  9   \"],\n",
       " [])"
      ]
     },
     "execution_count": 8,
     "metadata": {},
     "output_type": "execute_result"
    }
   ],
   "source": [
    "res('Li.su', 'ion_relax_opt', list(range(1,8))+[100], show = 'fit', analys_type = 'fit_a')"
   ]
  },
  {
   "cell_type": "code",
   "execution_count": 9,
   "metadata": {},
   "outputs": [
    {
     "name": "stdout",
     "output_type": "stream",
     "text": [
      "-- POSCAR was written to Li_opt.POSCAR \n",
      "\n"
     ]
    },
    {
     "data": {
      "text/plain": [
       "'Li_opt.POSCAR'"
      ]
     },
     "execution_count": 9,
     "metadata": {},
     "output_type": "execute_result"
    }
   ],
   "source": [
    "db['Li.su.ion_relax_opt.100'].end.write_poscar('Li_opt.POSCAR') #write optimized structure"
   ]
  },
  {
   "cell_type": "markdown",
   "metadata": {},
   "source": [
    "## Calculate the optimization energy"
   ]
  },
  {
   "cell_type": "code",
   "execution_count": 10,
   "metadata": {},
   "outputs": [
    {
     "name": "stdout",
     "output_type": "stream",
     "text": [
      "Optimization energy = -3.0673500000002463 meV\n"
     ]
    }
   ],
   "source": [
    "dE = 1000*(db['Li.su.ion_relax_opt.100'].energy_sigma0 - db['Li.static_opt.1'].energy_sigma0)\n",
    "print(f'Optimization energy = {dE} meV')"
   ]
  },
  {
   "cell_type": "code",
   "execution_count": 11,
   "metadata": {},
   "outputs": [
    {
     "name": "stdout",
     "output_type": "stream",
     "text": [
      "\n",
      "Database has been successfully updated\n",
      "\n"
     ]
    }
   ],
   "source": [
    "write_database()"
   ]
  },
  {
   "cell_type": "code",
   "execution_count": null,
   "metadata": {},
   "outputs": [],
   "source": []
  }
 ],
 "metadata": {
  "kernelspec": {
   "display_name": "Python 3",
   "language": "python",
   "name": "python3"
  },
  "language_info": {
   "codemirror_mode": {
    "name": "ipython",
    "version": 3
   },
   "file_extension": ".py",
   "mimetype": "text/x-python",
   "name": "python",
   "nbconvert_exporter": "python",
   "pygments_lexer": "ipython3",
   "version": "3.6.5"
  }
 },
 "nbformat": 4,
 "nbformat_minor": 2
}
