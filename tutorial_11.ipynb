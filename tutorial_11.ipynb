{
 "cells": [
  {
   "cell_type": "markdown",
   "metadata": {},
   "source": [
    "# Tutorial 11: Li vacancy formation energy"
   ]
  },
  {
   "cell_type": "markdown",
   "metadata": {},
   "source": [
    "## Import libraries"
   ]
  },
  {
   "cell_type": "code",
   "execution_count": null,
   "metadata": {},
   "outputs": [],
   "source": [
    "import siman #program package to manage DFT calculations https://github.com/dimonaks/siman\n",
    "from siman.calc_manage import smart_structure_read, get_structure_from_matproj\n",
    "from siman.calc_manage import add, res\n",
    "from siman.set_functions import read_vasp_sets\n",
    "from siman.database import write_database, read_database\n",
    "from siman.header import db\n",
    "read_database() # read saved database if available\n",
    "import project_sets # should be after read_database\n",
    "varset = read_vasp_sets(project_sets.user_vasp_sets, override_global = 0) #read user sets\n",
    "\n",
    "\n",
    "%matplotlib inline"
   ]
  },
  {
   "cell_type": "markdown",
   "metadata": {},
   "source": [
    "## Read POSCAR and create supercell"
   ]
  },
  {
   "cell_type": "code",
   "execution_count": null,
   "metadata": {},
   "outputs": [],
   "source": [
    "st_Li = db['Li.su', 'ion_relax_opt', 100].end\n",
    "st_Li.printme()"
   ]
  },
  {
   "cell_type": "code",
   "execution_count": null,
   "metadata": {},
   "outputs": [],
   "source": [
    "#supercell can be created even simpler than in previous tutorials, just by using a method self.replic([N,N,N])\n",
    "\n",
    "sc_Li = st_Li.replic([3,3,3]) \n",
    "sc_Li.printme()\n",
    "sc_Li.write_xyz(filename = 'Li333_supercell')"
   ]
  },
  {
   "cell_type": "markdown",
   "metadata": {},
   "source": [
    "## Create vacancy in our Li supercell"
   ]
  },
  {
   "cell_type": "code",
   "execution_count": null,
   "metadata": {},
   "outputs": [],
   "source": [
    "sc_Li_vac = sc_Li.del_atom(25) # create vacancy defect in supercell\n",
    "sc_Li_vac.printme()\n",
    "sc_Li_vac.write_xyz(filename = 'Li333_supercell_with_vacancy')"
   ]
  },
  {
   "cell_type": "markdown",
   "metadata": {},
   "source": [
    "## Run calculations for ideal and defect supercells"
   ]
  },
  {
   "cell_type": "code",
   "execution_count": null,
   "metadata": {},
   "outputs": [],
   "source": [
    "it_folder = 'Li_vac/'\n",
    "add('Li333',    'ion_relax_opt', 1, input_st = sc_Li, it_folder = it_folder, run = 0) \n",
    "add('Li333vac', 'ion_relax_opt', 1, input_st = sc_Li_vac, it_folder = it_folder, run = 0) "
   ]
  },
  {
   "cell_type": "markdown",
   "metadata": {},
   "source": [
    "## Read results"
   ]
  },
  {
   "cell_type": "code",
   "execution_count": null,
   "metadata": {},
   "outputs": [],
   "source": [
    "res('Li333',    'ion_relax_opt', 1) #read results\n",
    "res('Li333vac', 'ion_relax_opt', 1) #read results"
   ]
  },
  {
   "cell_type": "markdown",
   "metadata": {},
   "source": [
    "## Vacancy formation energy calculation"
   ]
  },
  {
   "cell_type": "code",
   "execution_count": null,
   "metadata": {},
   "outputs": [],
   "source": [
    "Li333 = db['Li333', 'ion_relax_opt', 1] # short name for calculation object of Li supercell\n",
    "Li333_vac = db['Li333vac', 'ion_relax_opt', 1] # short name for calculation object of Li supercell with vacancy\n",
    "\n",
    "natom = Li333.end.natom #number of atoms in the ideal Li supercell\n",
    "\n",
    "E_vac_f = Li333_vac.e0 - Li333.e0 * (natom-1)/natom  \n",
    "\n",
    "print(f'Vacancy formation energy = {E_vac_f:1.2f} eV')"
   ]
  },
  {
   "cell_type": "markdown",
   "metadata": {},
   "source": [
    "**Compare your result with** Ma, P. W., & Dudarev, S. L. (2019). Universality of point defect structure in body-centered cubic metals. Physical Review Materials, 3(1), 013605."
   ]
  },
  {
   "cell_type": "code",
   "execution_count": null,
   "metadata": {},
   "outputs": [],
   "source": [
    "write_database()"
   ]
  }
 ],
 "metadata": {
  "kernelspec": {
   "display_name": "Python 3",
   "language": "python",
   "name": "python3"
  },
  "language_info": {
   "codemirror_mode": {
    "name": "ipython",
    "version": 3
   },
   "file_extension": ".py",
   "mimetype": "text/x-python",
   "name": "python",
   "nbconvert_exporter": "python",
   "pygments_lexer": "ipython3",
   "version": "3.6.5"
  }
 },
 "nbformat": 4,
 "nbformat_minor": 2
}
