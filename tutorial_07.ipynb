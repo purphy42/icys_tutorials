{
 "cells": [
  {
   "cell_type": "markdown",
   "metadata": {},
   "source": [
    "# Tutorial 7: Phase stability: energy difference of bcc and fcc Lithium "
   ]
  },
  {
   "cell_type": "markdown",
   "metadata": {},
   "source": [
    "## Import libraries"
   ]
  },
  {
   "cell_type": "code",
   "execution_count": 2,
   "metadata": {},
   "outputs": [
    {
     "name": "stdout",
     "output_type": "stream",
     "text": [
      "/home/t.goryacheva/simanrc.py was read\n"
     ]
    }
   ],
   "source": [
    "import siman #program package to manage DFT calculations https://github.com/dimonaks/siman\n",
    "from siman.calc_manage import smart_structure_read, get_structure_from_matproj\n",
    "from siman.calc_manage import add, res\n",
    "from siman.set_functions import read_vasp_sets\n",
    "from siman.database import write_database, read_database\n",
    "from siman.header import db\n",
    "read_database() # read saved database if available\n",
    "import project_sets # should be after read_database\n",
    "varset = read_vasp_sets(project_sets.user_vasp_sets, override_global = 0) #read user sets\n",
    "\n",
    "\n",
    "%matplotlib inline\n",
    "import warnings\n",
    "warnings.filterwarnings('ignore')\n",
    "\n",
    "\n",
    "# убрать одну из потимизаций bcc-fcc, которые были сделаны в 5-6 туториалах "
   ]
  },
  {
   "cell_type": "markdown",
   "metadata": {},
   "source": [
    "## Get POSCAR from Materials Project"
   ]
  },
  {
   "cell_type": "code",
   "execution_count": 2,
   "metadata": {},
   "outputs": [
    {
     "name": "stdout",
     "output_type": "stream",
     "text": [
      "Structure mp-51 downloaded from materialsproject.org\n",
      " File mp-51.POSCAR was written \n",
      "\n",
      "Full Formula (Li1)\n",
      "Reduced Formula: Li\n",
      "abc   :   3.054624   3.054624   3.054624\n",
      "angles:  60.000000  60.000000  60.000000\n",
      "Sites (1)\n",
      "  #  SP      a    b    c\n",
      "---  ----  ---  ---  ---\n",
      "  0  Li      0    0    0\n",
      "('Fm-3m', 225)\n"
     ]
    },
    {
     "data": {
      "text/plain": [
       "('Fm-3m', 225)"
      ]
     },
     "execution_count": 2,
     "metadata": {},
     "output_type": "execute_result"
    }
   ],
   "source": [
    "Li_fcc = get_structure_from_matproj(mat_proj_id = 'mp-51') # fcc phase with Fm-3m symmetry group\n",
    "Li_fcc.printme()\n",
    "Li_fcc.sg() #show spacegroup"
   ]
  },
  {
   "cell_type": "code",
   "execution_count": 3,
   "metadata": {},
   "outputs": [
    {
     "name": "stdout",
     "output_type": "stream",
     "text": [
      "Structure mp-135 downloaded from materialsproject.org\n",
      " File mp-135.POSCAR was written \n",
      "\n",
      "Full Formula (Li1)\n",
      "Reduced Formula: Li\n",
      "abc   :   2.967711   2.967711   2.967711\n",
      "angles: 109.471221 109.471221 109.471221\n",
      "Sites (1)\n",
      "  #  SP      a    b    c\n",
      "---  ----  ---  ---  ---\n",
      "  0  Li      0    0    0\n",
      "('Im-3m', 229)\n"
     ]
    },
    {
     "data": {
      "text/plain": [
       "('Im-3m', 229)"
      ]
     },
     "execution_count": 3,
     "metadata": {},
     "output_type": "execute_result"
    }
   ],
   "source": [
    "Li_bcc = get_structure_from_matproj(mat_proj_id = 'mp-135') # bcc phase with Im-3m symmetry group\n",
    "Li_bcc.printme()\n",
    "Li_bcc.sg() #show spacegroup"
   ]
  },
  {
   "cell_type": "markdown",
   "metadata": {},
   "source": [
    "## Optimize fcc"
   ]
  },
  {
   "cell_type": "code",
   "execution_count": 4,
   "metadata": {},
   "outputs": [
    {
     "name": "stdout",
     "output_type": "stream",
     "text": [
      "-- Attention!, cluster None is not found, using default raz \n",
      "\n",
      "-- add_loop_scale(): Preparing   scale  calculation ...  \n",
      "\n",
      "-- File xyz/mp-51_used_for_scaling.xyz was written \n",
      "\n",
      "-- Scale_region is (-5, 5) \n",
      "\n",
      "-- Scales are [-5.  -2.5  0.   2.5  5. ] \n",
      "\n",
      "-- Warning! File ./Li//Li_fcc.su/Li_fcc.su.auto_created_scaled_image.1.geo was replaced \n",
      "\n",
      "-- File xyz/Li_fcc.su.1.xyz was written \n",
      "\n",
      "-- Warning! File ./Li//Li_fcc.su/Li_fcc.su.auto_created_scaled_image.2.geo was replaced \n",
      "\n",
      "-- File xyz/Li_fcc.su.2.xyz was written \n",
      "\n",
      "-- Warning! File ./Li//Li_fcc.su/Li_fcc.su.auto_created_scaled_image.3.geo was replaced \n",
      "\n",
      "-- File xyz/Li_fcc.su.3.xyz was written \n",
      "\n",
      "-- Warning! File ./Li//Li_fcc.su/Li_fcc.su.auto_created_scaled_image.4.geo was replaced \n",
      "\n",
      "-- File xyz/Li_fcc.su.4.xyz was written \n",
      "\n",
      "-- Warning! File ./Li//Li_fcc.su/Li_fcc.su.auto_created_scaled_image.5.geo was replaced \n",
      "\n",
      "-- File xyz/Li_fcc.su.5.xyz was written \n",
      "\n",
      "-- 5 scale images have been created. \n",
      "\n",
      "--                           |  energy(eV)|    Vector lenghts (A)   | Stresses (MPa)     | N MD, N SCF    \n",
      "-- db['Li_fcc.su.static_opt.1']  |Li_fcc.su.static_opt.1|  -1.8755   |2.90, 2.90, 2.90|  2890,2890,2890    |   1, 9,  9    \n",
      "-- check_kpoints(): Kpoint   mesh is:  [14, 14, 14] \n",
      "\n",
      "-- check_kpoints(): The actual k-spacings are  [0.19 0.19 0.19] \n",
      "\n",
      "-- POSCAR was written to Li///Li_fcc.su.static_opt/1.POSCAR \n",
      "\n",
      "\n",
      "Calculation ('Li_fcc.su', 'static_opt', 1) successfully created\n",
      "\n",
      " \n",
      "\n",
      "--                           |  energy(eV)|    Vector lenghts (A)   | Stresses (MPa)     | N MD, N SCF    \n",
      "-- db['Li_fcc.su.static_opt.2']  |Li_fcc.su.static_opt.2|  -1.8937   |2.98, 2.98, 2.98|  1357,1357,1357    |   1, 9,  9    \n",
      "-- check_kpoints(): Kpoint   mesh is:  [14, 14, 14] \n",
      "\n",
      "-- check_kpoints(): The actual k-spacings are  [0.18 0.18 0.18] \n",
      "\n",
      "-- POSCAR was written to Li///Li_fcc.su.static_opt/2.POSCAR \n",
      "\n",
      "\n",
      "Calculation ('Li_fcc.su', 'static_opt', 2) successfully created\n",
      "\n",
      " \n",
      "\n",
      "--                           |  energy(eV)|    Vector lenghts (A)   | Stresses (MPa)     | N MD, N SCF    \n",
      "-- db['Li_fcc.su.static_opt.3']  |Li_fcc.su.static_opt.3|  -1.9001   |3.06, 3.06, 3.06|    121,121,121     |   1, 9,  9    \n",
      "-- check_kpoints(): Kpoint   mesh is:  [14, 14, 14] \n",
      "\n",
      "-- check_kpoints(): The actual k-spacings are  [0.18 0.18 0.18] \n",
      "\n",
      "-- POSCAR was written to Li///Li_fcc.su.static_opt/3.POSCAR \n",
      "\n",
      "\n",
      "Calculation ('Li_fcc.su', 'static_opt', 3) successfully created\n",
      "\n",
      " \n",
      "\n",
      "--                           |  energy(eV)|    Vector lenghts (A)   | Stresses (MPa)     | N MD, N SCF    \n",
      "-- db['Li_fcc.su.static_opt.4']  |Li_fcc.su.static_opt.4|  -1.8964   |3.13, 3.13, 3.13|  -775,-775,-775    |   1, 9,  9    \n",
      "-- check_kpoints(): Kpoint   mesh is:  [14, 14, 14] \n",
      "\n",
      "-- check_kpoints(): The actual k-spacings are  [0.18 0.18 0.18] \n",
      "\n",
      "-- POSCAR was written to Li///Li_fcc.su.static_opt/4.POSCAR \n",
      "\n",
      "\n",
      "Calculation ('Li_fcc.su', 'static_opt', 4) successfully created\n",
      "\n",
      " \n",
      "\n",
      "--                           |  energy(eV)|    Vector lenghts (A)   | Stresses (MPa)     | N MD, N SCF    \n",
      "-- db['Li_fcc.su.static_opt.5']  |Li_fcc.su.static_opt.5|  -1.8844   |3.21, 3.21, 3.21| -1523,-1523,-1523  |   1, 9,  9    \n",
      "-- check_kpoints(): Kpoint   mesh is:  [14, 14, 14] \n",
      "\n",
      "-- check_kpoints(): The actual k-spacings are  [0.17 0.17 0.17] \n",
      "\n",
      "-- POSCAR was written to Li///Li_fcc.su.static_opt/5.POSCAR \n",
      "\n",
      "-- Attention! ngkpt =  [14, 14, 14]  is adopted from struct_des which you provided for it  Li_fcc.su  and kspacing =  0.2 \n",
      "\n",
      "\n",
      "Calculation ('Li_fcc.su', 'static_opt', 5) successfully created\n",
      "\n",
      " \n",
      "\n"
     ]
    },
    {
     "data": {
      "text/plain": [
       "'Li_fcc.su'"
      ]
     },
     "execution_count": 4,
     "metadata": {},
     "output_type": "execute_result"
    }
   ],
   "source": [
    "add('Li_fcc', 'ion_relax_opt', 1, input_st = Li_fcc, it_folder = 'Li/',  \n",
    "    calc_method = 'uniform_scale', scale_region = (-5, 5),  n_scale_images = 5, run = 0)"
   ]
  },
  {
   "cell_type": "code",
   "execution_count": 5,
   "metadata": {},
   "outputs": [
    {
     "name": "stdout",
     "output_type": "stream",
     "text": [
      "--                           |  energy(eV)|    Vector lenghts (A)   | Stresses (MPa)     | N MD, N SCF    \n",
      "-- db['Li_fcc.su.static_opt.1']  |Li_fcc.su.static_opt.1|  -1.8755   |2.90, 2.90, 2.90|  2890,2890,2890    |   1, 9,  9    \n",
      "-- db['Li_fcc.su.static_opt.2']  |Li_fcc.su.static_opt.2|  -1.8937   |2.98, 2.98, 2.98|  1357,1357,1357    |   1, 9,  9    \n",
      "-- db['Li_fcc.su.static_opt.3']  |Li_fcc.su.static_opt.3|  -1.9001   |3.06, 3.06, 3.06|    121,121,121     |   1, 9,  9    \n",
      "-- db['Li_fcc.su.static_opt.4']  |Li_fcc.su.static_opt.4|  -1.8964   |3.13, 3.13, 3.13|  -775,-775,-775    |   1, 9,  9    \n",
      "-- db['Li_fcc.su.static_opt.5']  |Li_fcc.su.static_opt.5|  -1.8844   |3.21, 3.21, 3.21| -1523,-1523,-1523  |   1, 9,  9    \n"
     ]
    },
    {
     "name": "stderr",
     "output_type": "stream",
     "text": [
      "The PostScript backend does not support transparency; partially transparent artists will be rendered opaque.\n",
      "The PostScript backend does not support transparency; partially transparent artists will be rendered opaque.\n",
      "The PostScript backend does not support transparency; partially transparent artists will be rendered opaque.\n",
      "The PostScript backend does not support transparency; partially transparent artists will be rendered opaque.\n",
      "The PostScript backend does not support transparency; partially transparent artists will be rendered opaque.\n"
     ]
    },
    {
     "name": "stdout",
     "output_type": "stream",
     "text": [
      "-- db['Li_fcc.su.static_opt.100']|Li_fcc.su.static_opt.100|  -1.9002   |3.06, 3.06, 3.06|       7,7,7        |   1, 9,  9    \n",
      "alpha, energy: 60.00, -1.875\n",
      "alpha, energy: 60.00, -1.894\n",
      "alpha, energy: 60.00, -1.900\n",
      "alpha, energy: 60.00, -1.896\n",
      "alpha, energy: 60.00, -1.884\n",
      "alpha, energy: 60.00, -1.900\n",
      "-- Image saved to  figs/angle.eps \n",
      "\n",
      "\n",
      "            v0 = 20.312269689854293 A^3\n",
      "            a0 = 2.7284718954556806 A\n",
      "            E0 = -1.90013895101113 eV\n",
      "            B  = 0.08607708450272342 eV/A^3 \n",
      "\n"
     ]
    },
    {
     "data": {
      "image/png": "[encoded data removed]",
      "text/plain": [
       "<Figure size 432x288 with 1 Axes>"
      ]
     },
     "metadata": {},
     "output_type": "display_data"
    },
    {
     "name": "stdout",
     "output_type": "stream",
     "text": [
      "-- fit results are saved in  figs/Li_fcc.su.static_opt.100.png \n",
      "\n"
     ]
    },
    {
     "data": {
      "text/plain": [
       "([\"db['Li_fcc.su.static_opt.100']|Li_fcc.su.static_opt.100|  -1.9002   |3.06, 3.06, 3.06|       7,7,7        |   1, 9,  9   \"],\n",
       " [])"
      ]
     },
     "execution_count": 5,
     "metadata": {},
     "output_type": "execute_result"
    }
   ],
   "source": [
    "res('Li_fcc.su', 'ion_relax_opt', list(range(1,6))+[100], show = 'fit', analys_type = 'fit_a')"
   ]
  },
  {
   "cell_type": "markdown",
   "metadata": {},
   "source": [
    "## Optimize bcc"
   ]
  },
  {
   "cell_type": "code",
   "execution_count": 6,
   "metadata": {
    "scrolled": true
   },
   "outputs": [
    {
     "name": "stdout",
     "output_type": "stream",
     "text": [
      "-- Attention!, cluster None is not found, using default raz \n",
      "\n",
      "-- add_loop_scale(): Preparing   scale  calculation ...  \n",
      "\n",
      "-- File xyz/mp-135_used_for_scaling.xyz was written \n",
      "\n",
      "-- Scale_region is (-5, 5) \n",
      "\n",
      "-- Scales are [-5.  -2.5  0.   2.5  5. ] \n",
      "\n",
      "-- Warning! File ./Li//Li_bcc.su/Li_bcc.su.auto_created_scaled_image.1.geo was replaced \n",
      "\n",
      "-- File xyz/Li_bcc.su.1.xyz was written \n",
      "\n",
      "-- Warning! File ./Li//Li_bcc.su/Li_bcc.su.auto_created_scaled_image.2.geo was replaced \n",
      "\n",
      "-- File xyz/Li_bcc.su.2.xyz was written \n",
      "\n",
      "-- Warning! File ./Li//Li_bcc.su/Li_bcc.su.auto_created_scaled_image.3.geo was replaced \n",
      "\n",
      "-- File xyz/Li_bcc.su.3.xyz was written \n",
      "\n",
      "-- Warning! File ./Li//Li_bcc.su/Li_bcc.su.auto_created_scaled_image.4.geo was replaced \n",
      "\n",
      "-- File xyz/Li_bcc.su.4.xyz was written \n",
      "\n",
      "-- Warning! File ./Li//Li_bcc.su/Li_bcc.su.auto_created_scaled_image.5.geo was replaced \n",
      "\n",
      "-- File xyz/Li_bcc.su.5.xyz was written \n",
      "\n",
      "-- 5 scale images have been created. \n",
      "\n",
      "--                           |  energy(eV)|    Vector lenghts (A)   | Stresses (MPa)     | N MD, N SCF    \n",
      "-- db['Li_bcc.su.static_opt.1']  |Li_bcc.su.static_opt.1|  -1.8740   |2.82, 2.82, 2.82|  3040,3040,3040    |   1, 9,  9    \n",
      "-- check_kpoints(): Kpoint   mesh is:  [14, 14, 14] \n",
      "\n",
      "-- check_kpoints(): The actual k-spacings are  [0.19 0.19 0.19] \n",
      "\n",
      "-- POSCAR was written to Li///Li_bcc.su.static_opt/1.POSCAR \n",
      "\n",
      "\n",
      "Calculation ('Li_bcc.su', 'static_opt', 1) successfully created\n",
      "\n",
      " \n",
      "\n",
      "--                           |  energy(eV)|    Vector lenghts (A)   | Stresses (MPa)     | N MD, N SCF    \n",
      "-- db['Li_bcc.su.static_opt.2']  |Li_bcc.su.static_opt.2|  -1.8927   |2.89, 2.89, 2.89|  1362,1362,1362    |   1, 9,  9    \n",
      "-- check_kpoints(): Kpoint   mesh is:  [14, 14, 14] \n",
      "\n",
      "-- check_kpoints(): The actual k-spacings are  [0.19 0.19 0.19] \n",
      "\n",
      "-- POSCAR was written to Li///Li_bcc.su.static_opt/2.POSCAR \n",
      "\n",
      "\n",
      "Calculation ('Li_bcc.su', 'static_opt', 2) successfully created\n",
      "\n",
      " \n",
      "\n",
      "--                           |  energy(eV)|    Vector lenghts (A)   | Stresses (MPa)     | N MD, N SCF    \n",
      "-- db['Li_bcc.su.static_opt.3']  |Li_bcc.su.static_opt.3|  -1.8996   |2.97, 2.97, 2.97|    146,146,146     |   1, 9,  9    \n",
      "-- check_kpoints(): Kpoint   mesh is:  [14, 14, 14] \n",
      "\n",
      "-- check_kpoints(): The actual k-spacings are  [0.19 0.19 0.19] \n",
      "\n",
      "-- POSCAR was written to Li///Li_bcc.su.static_opt/3.POSCAR \n",
      "\n",
      "\n",
      "Calculation ('Li_bcc.su', 'static_opt', 3) successfully created\n",
      "\n",
      " \n",
      "\n",
      "--                           |  energy(eV)|    Vector lenghts (A)   | Stresses (MPa)     | N MD, N SCF    \n",
      "-- db['Li_bcc.su.static_opt.4']  |Li_bcc.su.static_opt.4|  -1.8961   |3.04, 3.04, 3.04|  -790,-790,-790    |   1, 9,  9    \n",
      "-- check_kpoints(): Kpoint   mesh is:  [14, 14, 14] \n",
      "\n",
      "-- check_kpoints(): The actual k-spacings are  [0.18 0.18 0.18] \n",
      "\n",
      "-- POSCAR was written to Li///Li_bcc.su.static_opt/4.POSCAR \n",
      "\n",
      "\n",
      "Calculation ('Li_bcc.su', 'static_opt', 4) successfully created\n",
      "\n",
      " \n",
      "\n",
      "--                           |  energy(eV)|    Vector lenghts (A)   | Stresses (MPa)     | N MD, N SCF    \n",
      "-- db['Li_bcc.su.static_opt.5']  |Li_bcc.su.static_opt.5|  -1.8843   |3.12, 3.12, 3.12| -1490,-1490,-1490  |   1, 9,  9    \n",
      "-- check_kpoints(): Kpoint   mesh is:  [14, 14, 14] \n",
      "\n",
      "-- check_kpoints(): The actual k-spacings are  [0.18 0.18 0.18] \n",
      "\n",
      "-- POSCAR was written to Li///Li_bcc.su.static_opt/5.POSCAR \n",
      "\n",
      "-- Attention! ngkpt =  [14, 14, 14]  is adopted from struct_des which you provided for it  Li_bcc.su  and kspacing =  0.2 \n",
      "\n",
      "\n",
      "Calculation ('Li_bcc.su', 'static_opt', 5) successfully created\n",
      "\n",
      " \n",
      "\n"
     ]
    },
    {
     "data": {
      "text/plain": [
       "'Li_bcc.su'"
      ]
     },
     "execution_count": 6,
     "metadata": {},
     "output_type": "execute_result"
    }
   ],
   "source": [
    "add('Li_bcc', 'ion_relax_opt', 1, input_st = Li_bcc, it_folder = 'Li/', \n",
    "    calc_method = 'uniform_scale', scale_region = (-5, 5), n_scale_images = 5, run = 0)"
   ]
  },
  {
   "cell_type": "code",
   "execution_count": 7,
   "metadata": {},
   "outputs": [
    {
     "name": "stdout",
     "output_type": "stream",
     "text": [
      "--                           |  energy(eV)|    Vector lenghts (A)   | Stresses (MPa)     | N MD, N SCF    \n",
      "-- db['Li_bcc.su.static_opt.1']  |Li_bcc.su.static_opt.1|  -1.8740   |2.82, 2.82, 2.82|  3040,3040,3040    |   1, 9,  9    \n",
      "-- db['Li_bcc.su.static_opt.2']  |Li_bcc.su.static_opt.2|  -1.8927   |2.89, 2.89, 2.89|  1362,1362,1362    |   1, 9,  9    \n",
      "-- db['Li_bcc.su.static_opt.3']  |Li_bcc.su.static_opt.3|  -1.8996   |2.97, 2.97, 2.97|    146,146,146     |   1, 9,  9    \n",
      "-- db['Li_bcc.su.static_opt.4']  |Li_bcc.su.static_opt.4|  -1.8961   |3.04, 3.04, 3.04|  -790,-790,-790    |   1, 9,  9    \n",
      "-- db['Li_bcc.su.static_opt.5']  |Li_bcc.su.static_opt.5|  -1.8843   |3.12, 3.12, 3.12| -1490,-1490,-1490  |   1, 9,  9    \n"
     ]
    },
    {
     "name": "stderr",
     "output_type": "stream",
     "text": [
      "The PostScript backend does not support transparency; partially transparent artists will be rendered opaque.\n",
      "The PostScript backend does not support transparency; partially transparent artists will be rendered opaque.\n",
      "The PostScript backend does not support transparency; partially transparent artists will be rendered opaque.\n",
      "The PostScript backend does not support transparency; partially transparent artists will be rendered opaque.\n",
      "The PostScript backend does not support transparency; partially transparent artists will be rendered opaque.\n"
     ]
    },
    {
     "name": "stdout",
     "output_type": "stream",
     "text": [
      "-- db['Li_bcc.su.static_opt.100']|Li_bcc.su.static_opt.100|  -1.8997   |2.98, 2.98, 2.98|    -11,-11,-11     |   1, 9,  9    \n",
      "alpha, energy: 109.47, -1.874\n",
      "alpha, energy: 109.47, -1.893\n",
      "alpha, energy: 109.47, -1.900\n",
      "alpha, energy: 109.47, -1.896\n",
      "alpha, energy: 109.47, -1.884\n",
      "alpha, energy: 109.47, -1.900\n",
      "-- Image saved to  figs/angle.eps \n",
      "\n",
      "\n",
      "            v0 = 20.34120593884247 A^3\n",
      "            a0 = 2.729766913724809 A\n",
      "            E0 = -1.8996535805517354 eV\n",
      "            B  = 0.08707447443257675 eV/A^3 \n",
      "\n"
     ]
    },
    {
     "data": {
      "image/png": "[encoded data removed]",
      "text/plain": [
       "<Figure size 432x288 with 1 Axes>"
      ]
     },
     "metadata": {},
     "output_type": "display_data"
    },
    {
     "name": "stdout",
     "output_type": "stream",
     "text": [
      "-- fit results are saved in  figs/Li_bcc.su.static_opt.100.png \n",
      "\n"
     ]
    },
    {
     "data": {
      "text/plain": [
       "([\"db['Li_bcc.su.static_opt.100']|Li_bcc.su.static_opt.100|  -1.8997   |2.98, 2.98, 2.98|    -11,-11,-11     |   1, 9,  9   \"],\n",
       " [])"
      ]
     },
     "execution_count": 7,
     "metadata": {},
     "output_type": "execute_result"
    }
   ],
   "source": [
    "res('Li_bcc.su', 'ion_relax_opt', list(range(1,6))+[100], show = 'fit', analys_type = 'fit_a')"
   ]
  },
  {
   "cell_type": "markdown",
   "metadata": {},
   "source": [
    "## BCC vs FCC"
   ]
  },
  {
   "cell_type": "code",
   "execution_count": 8,
   "metadata": {},
   "outputs": [
    {
     "name": "stdout",
     "output_type": "stream",
     "text": [
      "E(BCC) - E(FCC) = 0.48 meV\n"
     ]
    }
   ],
   "source": [
    "e_diff = db['Li_bcc.su.ion_relax_opt.100'].e0-db['Li_fcc.su.ion_relax_opt.100'].e0\n",
    "e_diff_mev = round(1000*(e_diff),2)\n",
    "print(f'E(BCC) - E(FCC) = {e_diff_mev} meV')\n",
    "\n",
    "db['Li.su.ion_relax_opt.100']"
   ]
  },
  {
   "cell_type": "code",
   "execution_count": null,
   "metadata": {},
   "outputs": [],
   "source": []
  },
  {
   "cell_type": "code",
   "execution_count": 10,
   "metadata": {},
   "outputs": [
    {
     "name": "stdout",
     "output_type": "stream",
     "text": [
      "\n",
      "Database has been successfully updated\n",
      "\n"
     ]
    }
   ],
   "source": [
    "write_database()"
   ]
  },
  {
   "cell_type": "code",
   "execution_count": null,
   "metadata": {},
   "outputs": [],
   "source": []
  }
 ],
 "metadata": {
  "kernelspec": {
   "display_name": "Python 3",
   "language": "python",
   "name": "python3"
  },
  "language_info": {
   "codemirror_mode": {
    "name": "ipython",
    "version": 3
   },
   "file_extension": ".py",
   "mimetype": "text/x-python",
   "name": "python",
   "nbconvert_exporter": "python",
   "pygments_lexer": "ipython3",
   "version": "3.6.5"
  }
 },
 "nbformat": 4,
 "nbformat_minor": 2
}
