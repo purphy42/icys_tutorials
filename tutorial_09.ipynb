{
 "cells": [
  {
   "cell_type": "markdown",
   "metadata": {},
   "source": [
    "# Tutorial 9: Lattice constants of LiCoO2 and CoO2"
   ]
  },
  {
   "cell_type": "markdown",
   "metadata": {},
   "source": [
    "## Import libraries"
   ]
  },
  {
   "cell_type": "code",
   "execution_count": 1,
   "metadata": {},
   "outputs": [
    {
     "name": "stdout",
     "output_type": "stream",
     "text": [
      "/home/t.goryacheva/simanrc.py was read\n"
     ]
    }
   ],
   "source": [
    "import siman #program package to manage DFT calculations https://github.com/dimonaks/siman\n",
    "from siman.calc_manage import smart_structure_read, get_structure_from_matproj\n",
    "from siman.calc_manage import add, res\n",
    "from siman.set_functions import read_vasp_sets\n",
    "from siman.database import write_database, read_database\n",
    "from siman.header import db\n",
    "read_database() # read saved database if available\n",
    "import project_sets # should be after read_database\n",
    "varset = read_vasp_sets(project_sets.user_vasp_sets, override_global = 0) #read user sets\n",
    "\n",
    "\n",
    "%matplotlib inline"
   ]
  },
  {
   "cell_type": "code",
   "execution_count": 2,
   "metadata": {},
   "outputs": [],
   "source": [
    "from IPython.display import display, Math\n",
    "import warnings\n",
    "warnings.filterwarnings('ignore')"
   ]
  },
  {
   "cell_type": "markdown",
   "metadata": {},
   "source": [
    "# Hubbard correction \n",
    "\n",
    "Takes into account the strong localization of Co d-electrons"
   ]
  },
  {
   "cell_type": "code",
   "execution_count": 3,
   "metadata": {},
   "outputs": [],
   "source": [
    "dftu_packet = { 'ISTART'   :1,   'ICHARG':1,  'LDAUTYPE':2, 'LASPH':'.TRUE.', \n",
    "                'LDAUPRINT':2, 'LMAXMIX' :4, 'LDAU' :'.TRUE.', \"KSPACING\": 0.7,\n",
    "                'LDAUL':{'Co':2  , },\n",
    "                'LDAUU':{'Co':3.4, },\n",
    "                'LDAUJ':{'Co':0.0, },\n",
    "                'GGA_COMPAT': '.FALSE.', 'ISPIN':2, 'LORBIT':11, \n",
    "                'magnetic_moments':{'Co':0 }} "
   ]
  },
  {
   "cell_type": "code",
   "execution_count": 4,
   "metadata": {},
   "outputs": [
    {
     "name": "stdout",
     "output_type": "stream",
     "text": [
      "\n",
      "Attention! You have chosen to override set u_ion_relax_opt\n",
      " \n",
      "\n"
     ]
    }
   ],
   "source": [
    "varset = read_vasp_sets([('u_ion_relax_opt', 'ion_relax_opt', dftu_packet, 'over')])#new set for DFT+U calculations"
   ]
  },
  {
   "cell_type": "markdown",
   "metadata": {},
   "source": [
    "## Get LiCoO2 structure file from Materials Project"
   ]
  },
  {
   "cell_type": "code",
   "execution_count": 5,
   "metadata": {},
   "outputs": [
    {
     "name": "stdout",
     "output_type": "stream",
     "text": [
      "Structure mp-22526 downloaded from materialsproject.org\n",
      " File mp-22526.POSCAR was written \n",
      "\n",
      "Full Formula (Li1 Co1 O2)\n",
      "Reduced Formula: LiCoO2\n",
      "abc   :   4.992713   4.992713   4.992713\n",
      "angles:  33.082406  33.082406  33.082398\n",
      "Sites (4)\n",
      "  #  SP           a         b         c\n",
      "---  ----  --------  --------  --------\n",
      "  0  Li    0         0         0\n",
      "  1  Co    0.5       0.5       0.5\n",
      "  2  O     0.760413  0.760413  0.760413\n",
      "  3  O     0.239587  0.239587  0.239587\n"
     ]
    }
   ],
   "source": [
    "st_LiCoO2 = get_structure_from_matproj(mat_proj_id = 'mp-22526') # primitive cell\n",
    "st_LiCoO2.printme()"
   ]
  },
  {
   "cell_type": "code",
   "execution_count": 6,
   "metadata": {},
   "outputs": [
    {
     "name": "stdout",
     "output_type": "stream",
     "text": [
      "Full Formula (Li3 Co3 O6)\n",
      "Reduced Formula: LiCoO2\n",
      "abc   :   2.842898   2.842898  14.145615\n",
      "angles:  90.000000  90.000000 120.000000\n",
      "Sites (12)\n",
      "  #  SP           a         b         c\n",
      "---  ----  --------  --------  --------\n",
      "  0  Li    0         0         0\n",
      "  1  Li    0.666667  0.333333  0.333333\n",
      "  2  Li    0.333333  0.666667  0.666667\n",
      "  3  Co    0.333333  0.666667  0.166667\n",
      "  4  Co    1         1         0.5\n",
      "  5  Co    0.666667  0.333333  0.833333\n",
      "  6  O     0         0         0.239587\n",
      "  7  O     0.666667  0.333333  0.093746\n",
      "  8  O     0.666667  0.333333  0.57292\n",
      "  9  O     0.333333  0.666667  0.42708\n",
      " 10  O     0.333333  0.666667  0.906254\n",
      " 11  O     0         0         0.760413\n"
     ]
    }
   ],
   "source": [
    "st_LiCoO2_conv = st_LiCoO2.get_conventional_cell() # return conventional cell \n",
    "st_LiCoO2_conv.update_xred() # it's just a technical feature\n",
    "st_LiCoO2_conv.printme()  # compare conventional structure with primitive from previous strings"
   ]
  },
  {
   "cell_type": "markdown",
   "metadata": {},
   "source": [
    "## LiCoO2 structure optimization"
   ]
  },
  {
   "cell_type": "code",
   "execution_count": 7,
   "metadata": {},
   "outputs": [
    {
     "name": "stdout",
     "output_type": "stream",
     "text": [
      "-- Attention!, cluster None is not found, using default raz \n",
      "\n",
      "-- add_loop_scale(): Preparing   scale  calculation ...  \n",
      "\n",
      "-- File xyz/mp-22526_from_pmg_used_for_scaling.xyz was written \n",
      "\n",
      "-- Scale_region is (-5, 5) \n",
      "\n",
      "-- Scales are [-5.  -2.5  0.   2.5  5. ] \n",
      "\n",
      "-- Warning! File ./LiCoO2//LiCoO2.su/LiCoO2.su.auto_created_scaled_image.1.geo was replaced \n",
      "\n",
      "-- File xyz/LiCoO2.su.1.xyz was written \n",
      "\n",
      "-- Warning! File ./LiCoO2//LiCoO2.su/LiCoO2.su.auto_created_scaled_image.2.geo was replaced \n",
      "\n",
      "-- File xyz/LiCoO2.su.2.xyz was written \n",
      "\n",
      "-- Warning! File ./LiCoO2//LiCoO2.su/LiCoO2.su.auto_created_scaled_image.3.geo was replaced \n",
      "\n",
      "-- File xyz/LiCoO2.su.3.xyz was written \n",
      "\n",
      "-- Warning! File ./LiCoO2//LiCoO2.su/LiCoO2.su.auto_created_scaled_image.4.geo was replaced \n",
      "\n",
      "-- File xyz/LiCoO2.su.4.xyz was written \n",
      "\n",
      "-- Warning! File ./LiCoO2//LiCoO2.su/LiCoO2.su.auto_created_scaled_image.5.geo was replaced \n",
      "\n",
      "-- File xyz/LiCoO2.su.5.xyz was written \n",
      "\n",
      "-- 5 scale images have been created. \n",
      "\n",
      "--                           |  energy(eV)|    Vector lenghts (A)   | Stresses (MPa)     | N MD, N SCF    \n",
      "-- db['LiCoO2.su.u_ion_relax_opt.1']|LiCoO2.su.u_ion_relax_opt.1|  -68.3748  |2.70, 2.70, 13.44|-18183,-18183,-26522 |   4, 8, 34    \n",
      "-- check_kpoints(): Kpoint   mesh is:  [4, 4, 1] \n",
      "\n",
      "-- check_kpoints(): The actual k-spacings are  [0.67 0.67 0.47] \n",
      "\n",
      "-- POSCAR was written to LiCoO2///LiCoO2.su.u_ion_relax_opt/1.POSCAR \n",
      "\n",
      "\n",
      "Calculation ('LiCoO2.su', 'u_ion_relax_opt', 1) successfully created\n",
      "\n",
      " \n",
      "\n",
      "--                           |  energy(eV)|    Vector lenghts (A)   | Stresses (MPa)     | N MD, N SCF    \n",
      "-- db['LiCoO2.su.u_ion_relax_opt.2']|LiCoO2.su.u_ion_relax_opt.2|  -69.2862  |2.77, 2.77, 13.79|-33987,-33987,-37484 |   3, 7, 23    \n",
      "-- check_kpoints(): Kpoint   mesh is:  [4, 4, 1] \n",
      "\n",
      "-- check_kpoints(): The actual k-spacings are  [0.65 0.65 0.46] \n",
      "\n",
      "-- POSCAR was written to LiCoO2///LiCoO2.su.u_ion_relax_opt/2.POSCAR \n",
      "\n",
      "\n",
      "Calculation ('LiCoO2.su', 'u_ion_relax_opt', 2) successfully created\n",
      "\n",
      " \n",
      "\n",
      "--                           |  energy(eV)|    Vector lenghts (A)   | Stresses (MPa)     | N MD, N SCF    \n",
      "-- db['LiCoO2.su.u_ion_relax_opt.3']|LiCoO2.su.u_ion_relax_opt.3|  -69.5340  |2.84, 2.84, 14.15|-45662,-45662,-44820 |   2, 9, 19    \n",
      "-- check_kpoints(): Kpoint   mesh is:  [4, 4, 1] \n",
      "\n",
      "-- check_kpoints(): The actual k-spacings are  [0.64 0.64 0.44] \n",
      "\n",
      "-- POSCAR was written to LiCoO2///LiCoO2.su.u_ion_relax_opt/3.POSCAR \n",
      "\n",
      "\n",
      "Calculation ('LiCoO2.su', 'u_ion_relax_opt', 3) successfully created\n",
      "\n",
      " \n",
      "\n",
      "--                           |  energy(eV)|    Vector lenghts (A)   | Stresses (MPa)     | N MD, N SCF    \n",
      "-- db['LiCoO2.su.u_ion_relax_opt.4']|LiCoO2.su.u_ion_relax_opt.4|  -69.2391  |2.91, 2.91, 14.50|-53832,-53832,-49103 |   3,10, 30    \n",
      "-- check_kpoints(): Kpoint   mesh is:  [4, 4, 1] \n",
      "\n",
      "-- check_kpoints(): The actual k-spacings are  [0.62 0.62 0.43] \n",
      "\n",
      "-- POSCAR was written to LiCoO2///LiCoO2.su.u_ion_relax_opt/4.POSCAR \n",
      "\n",
      "\n",
      "Calculation ('LiCoO2.su', 'u_ion_relax_opt', 4) successfully created\n",
      "\n",
      " \n",
      "\n",
      "--                           |  energy(eV)|    Vector lenghts (A)   | Stresses (MPa)     | N MD, N SCF    \n",
      "-- db['LiCoO2.su.u_ion_relax_opt.5']|LiCoO2.su.u_ion_relax_opt.5|  -68.5661  |2.98, 2.98, 14.85|-57872,-57872,-51087 |   3,10, 32    \n",
      "-- check_kpoints(): Kpoint   mesh is:  [4, 4, 1] \n",
      "\n",
      "-- check_kpoints(): The actual k-spacings are  [0.61 0.61 0.42] \n",
      "\n",
      "-- POSCAR was written to LiCoO2///LiCoO2.su.u_ion_relax_opt/5.POSCAR \n",
      "\n",
      "-- Attention! ngkpt =  [4, 4, 1]  is adopted from struct_des which you provided for it  LiCoO2.su  and kspacing =  0.7 \n",
      "\n",
      "\n",
      "Calculation ('LiCoO2.su', 'u_ion_relax_opt', 5) successfully created\n",
      "\n",
      " \n",
      "\n"
     ]
    },
    {
     "data": {
      "text/plain": [
       "'LiCoO2.su'"
      ]
     },
     "execution_count": 7,
     "metadata": {},
     "output_type": "execute_result"
    }
   ],
   "source": [
    "add('LiCoO2', 'u_ion_relax_opt', 1, input_st = st_LiCoO2_conv, it_folder = 'LiCoO2/',  \n",
    "    calc_method = 'uniform_scale', scale_region = (-5, 5), n_scale_images = 5, run = 0)"
   ]
  },
  {
   "cell_type": "code",
   "execution_count": 14,
   "metadata": {},
   "outputs": [
    {
     "name": "stdout",
     "output_type": "stream",
     "text": [
      "--                           |  energy(eV)|    Vector lenghts (A)   | Stresses (MPa)     | N MD, N SCF    \n",
      "-- db['LiCoO2.su.u_ion_relax_opt.1']|LiCoO2.su.u_ion_relax_opt.1|  -68.3748  |2.70, 2.70, 13.44|-18183,-18183,-26522 |   4, 8, 34    \n",
      "-- db['LiCoO2.su.u_ion_relax_opt.2']|LiCoO2.su.u_ion_relax_opt.2|  -69.2862  |2.77, 2.77, 13.79|-33987,-33987,-37484 |   3, 7, 23    \n",
      "-- db['LiCoO2.su.u_ion_relax_opt.3']|LiCoO2.su.u_ion_relax_opt.3|  -69.5340  |2.84, 2.84, 14.15|-45662,-45662,-44820 |   2, 9, 19    \n",
      "-- db['LiCoO2.su.u_ion_relax_opt.4']|LiCoO2.su.u_ion_relax_opt.4|  -69.2391  |2.91, 2.91, 14.50|-53832,-53832,-49103 |   3,10, 30    \n",
      "-- db['LiCoO2.su.u_ion_relax_opt.5']|LiCoO2.su.u_ion_relax_opt.5|  -68.5661  |2.98, 2.98, 14.85|-57872,-57872,-51087 |   3,10, 32    \n"
     ]
    },
    {
     "name": "stderr",
     "output_type": "stream",
     "text": [
      "The PostScript backend does not support transparency; partially transparent artists will be rendered opaque.\n",
      "The PostScript backend does not support transparency; partially transparent artists will be rendered opaque.\n",
      "The PostScript backend does not support transparency; partially transparent artists will be rendered opaque.\n",
      "The PostScript backend does not support transparency; partially transparent artists will be rendered opaque.\n",
      "The PostScript backend does not support transparency; partially transparent artists will be rendered opaque.\n"
     ]
    },
    {
     "name": "stdout",
     "output_type": "stream",
     "text": [
      "-- db['LiCoO2.su.u_ion_relax_opt.100']|LiCoO2.su.u_ion_relax_opt.100|  -69.5341  |2.84, 2.84, 14.12|-45169,-45169,-44790 |   2, 9, 19    \n",
      "alpha, energy: 90.00, -68.375\n",
      "alpha, energy: 90.00, -69.286\n",
      "alpha, energy: 90.00, -69.534\n",
      "alpha, energy: 90.00, -69.239\n",
      "alpha, energy: 90.00, -68.566\n",
      "alpha, energy: 90.00, -69.534\n",
      "-- Image saved to  figs/angle.eps \n",
      "\n",
      "\n",
      "            v0 = 98.35011282020322 A^3\n",
      "            a0 = 4.615920150578743 A\n",
      "            E0 = -69.53107632172504 eV\n",
      "            B  = 0.9579513885490931 eV/A^3 \n",
      "\n"
     ]
    },
    {
     "data": {
      "image/png": "[encoded data removed]",
      "text/plain": [
       "<Figure size 432x288 with 1 Axes>"
      ]
     },
     "metadata": {},
     "output_type": "display_data"
    },
    {
     "name": "stdout",
     "output_type": "stream",
     "text": [
      "-- fit results are saved in  figs/LiCoO2.su.u_ion_relax_opt.100.png \n",
      "\n"
     ]
    },
    {
     "data": {
      "text/plain": [
       "([\"db['LiCoO2.su.u_ion_relax_opt.100']|LiCoO2.su.u_ion_relax_opt.100|  -69.5341  |2.84, 2.84, 14.12|-45169,-45169,-44790 |   2, 9, 19   \"],\n",
       " [])"
      ]
     },
     "execution_count": 14,
     "metadata": {},
     "output_type": "execute_result"
    }
   ],
   "source": [
    "res('LiCoO2.su', 'u_ion_relax_opt', list(range(1,6))+[100], show = 'fit', analys_type = 'fit_a')"
   ]
  },
  {
   "cell_type": "code",
   "execution_count": 9,
   "metadata": {},
   "outputs": [
    {
     "data": {
      "text/plain": [
       "<siman.classes.CalculationVasp at 0x7efcde65a550>"
      ]
     },
     "execution_count": 9,
     "metadata": {},
     "output_type": "execute_result"
    }
   ],
   "source": [
    "db['LiCoO2.su.u_ion_relax_opt.100'] # calculation object of LiCoO2 optimized structure"
   ]
  },
  {
   "cell_type": "markdown",
   "metadata": {},
   "source": [
    "## Get CoO2 structure by LiCoO2 deintercalation\n"
   ]
  },
  {
   "cell_type": "code",
   "execution_count": 10,
   "metadata": {},
   "outputs": [],
   "source": [
    "from siman.geo import create_deintercalated_structure # I hope it's clear what the imported function do"
   ]
  },
  {
   "cell_type": "code",
   "execution_count": 11,
   "metadata": {},
   "outputs": [
    {
     "name": "stdout",
     "output_type": "stream",
     "text": [
      "-- I have found  1 non-equivalent positions for Li : dict_keys([0]) \n",
      "-- Atom numbers (from zero!):  {0: [0, 1, 2]} \n",
      "\n",
      "-- Choose from the following list using *del_pos* starting from 1: \n",
      "--       1 ---> 0 \n",
      "-- You have chosen position: 0 \n",
      "\n",
      "Full Formula (Co3 O6)\n",
      "Reduced Formula: CoO2\n",
      "abc   :   2.842898   2.842898  14.145615\n",
      "angles:  90.000000  90.000000 120.000000\n",
      "Sites (9)\n",
      "  #  SP           a         b         c\n",
      "---  ----  --------  --------  --------\n",
      "  0  Co    0.333333  0.666667  0.166667\n",
      "  1  Co    1         1         0.5\n",
      "  2  Co    0.666667  0.333333  0.833333\n",
      "  3  O     0         0         0.239587\n",
      "  4  O     0.666667  0.333333  0.093746\n",
      "  5  O     0.666667  0.333333  0.57292\n",
      "  6  O     0.333333  0.666667  0.42708\n",
      "  7  O     0.333333  0.666667  0.906254\n",
      "  8  O     0         0         0.760413\n"
     ]
    }
   ],
   "source": [
    "st_CoO2 = create_deintercalated_structure(st_LiCoO2_conv, 'Li') # this means to remove all the Li atoms\n",
    "st_CoO2.printme()"
   ]
  },
  {
   "cell_type": "markdown",
   "metadata": {},
   "source": [
    "## CoO2 structure optimization\n"
   ]
  },
  {
   "cell_type": "code",
   "execution_count": 24,
   "metadata": {},
   "outputs": [
    {
     "name": "stdout",
     "output_type": "stream",
     "text": [
      "-- Attention!, cluster None is not found, using default raz \n",
      "\n",
      "-- add_loop_scale(): Preparing   scale  calculation ...  \n",
      "\n",
      "-- File xyz/mp-22526_from_pmg.Li[0, 1, 2]del_used_for_scaling.xyz was written \n",
      "\n",
      "-- Scale_region is (-5, 5) \n",
      "\n",
      "-- Scales are [-5.  -2.5  0.   2.5  5. ] \n",
      "\n",
      "-- Warning! File ./CoO2//CoO2.su/CoO2.su.auto_created_scaled_image.1.geo was replaced \n",
      "\n",
      "-- File xyz/CoO2.su.1.xyz was written \n",
      "\n",
      "-- Warning! File ./CoO2//CoO2.su/CoO2.su.auto_created_scaled_image.2.geo was replaced \n",
      "\n",
      "-- File xyz/CoO2.su.2.xyz was written \n",
      "\n",
      "-- Warning! File ./CoO2//CoO2.su/CoO2.su.auto_created_scaled_image.3.geo was replaced \n",
      "\n",
      "-- File xyz/CoO2.su.3.xyz was written \n",
      "\n",
      "-- Warning! File ./CoO2//CoO2.su/CoO2.su.auto_created_scaled_image.4.geo was replaced \n",
      "\n",
      "-- File xyz/CoO2.su.4.xyz was written \n",
      "\n",
      "-- Warning! File ./CoO2//CoO2.su/CoO2.su.auto_created_scaled_image.5.geo was replaced \n",
      "\n",
      "-- File xyz/CoO2.su.5.xyz was written \n",
      "\n",
      "-- 5 scale images have been created. \n",
      "\n",
      "-- check_kpoints(): Kpoint   mesh is:  [4, 4, 1] \n",
      "\n",
      "-- check_kpoints(): The actual k-spacings are  [0.67 0.67 0.47] \n",
      "\n",
      "-- POSCAR was written to CoO2///CoO2.su.u_ion_relax_opt/1.POSCAR \n",
      "\n",
      "\n",
      "Calculation ('CoO2.su', 'u_ion_relax_opt', 1) successfully created\n",
      "\n",
      " \n",
      "\n",
      "-- check_kpoints(): Kpoint   mesh is:  [4, 4, 1] \n",
      "\n",
      "-- check_kpoints(): The actual k-spacings are  [0.65 0.65 0.46] \n",
      "\n",
      "-- POSCAR was written to CoO2///CoO2.su.u_ion_relax_opt/2.POSCAR \n",
      "\n",
      "\n",
      "Calculation ('CoO2.su', 'u_ion_relax_opt', 2) successfully created\n",
      "\n",
      " \n",
      "\n",
      "-- check_kpoints(): Kpoint   mesh is:  [4, 4, 1] \n",
      "\n",
      "-- check_kpoints(): The actual k-spacings are  [0.64 0.64 0.44] \n",
      "\n",
      "-- POSCAR was written to CoO2///CoO2.su.u_ion_relax_opt/3.POSCAR \n",
      "\n",
      "\n",
      "Calculation ('CoO2.su', 'u_ion_relax_opt', 3) successfully created\n",
      "\n",
      " \n",
      "\n",
      "-- check_kpoints(): Kpoint   mesh is:  [4, 4, 1] \n",
      "\n",
      "-- check_kpoints(): The actual k-spacings are  [0.62 0.62 0.43] \n",
      "\n",
      "-- POSCAR was written to CoO2///CoO2.su.u_ion_relax_opt/4.POSCAR \n",
      "\n",
      "\n",
      "Calculation ('CoO2.su', 'u_ion_relax_opt', 4) successfully created\n",
      "\n",
      " \n",
      "\n",
      "-- check_kpoints(): Kpoint   mesh is:  [4, 4, 1] \n",
      "\n",
      "-- check_kpoints(): The actual k-spacings are  [0.61 0.61 0.42] \n",
      "\n",
      "-- POSCAR was written to CoO2///CoO2.su.u_ion_relax_opt/5.POSCAR \n",
      "\n",
      "-- Attention! ngkpt =  [4, 4, 1]  is adopted from struct_des which you provided for it  CoO2.su  and kspacing =  0.7 \n",
      "\n",
      "\n",
      "Calculation ('CoO2.su', 'u_ion_relax_opt', 5) successfully created\n",
      "\n",
      " \n",
      "\n"
     ]
    },
    {
     "data": {
      "text/plain": [
       "'CoO2.su'"
      ]
     },
     "execution_count": 24,
     "metadata": {},
     "output_type": "execute_result"
    }
   ],
   "source": [
    "add('CoO2', 'u_ion_relax_opt', 1, input_st = st_CoO2, it_folder = 'CoO2/',  \n",
    "    calc_method = 'uniform_scale', scale_region = (-5, 5), n_scale_images = 5, up=\"up2\", run = 0)"
   ]
  },
  {
   "cell_type": "code",
   "execution_count": 25,
   "metadata": {},
   "outputs": [
    {
     "name": "stdout",
     "output_type": "stream",
     "text": [
      "--                           |  energy(eV)|    Vector lenghts (A)   | Stresses (MPa)     | N MD, N SCF    \n",
      "-- db['CoO2.su.u_ion_relax_opt.1']|CoO2.su.u_ion_relax_opt.1|  -51.6133  |2.70, 2.70, 13.44|-31256,-31256,-47880 |   2,13, 26    \n",
      "-- db['CoO2.su.u_ion_relax_opt.2']|CoO2.su.u_ion_relax_opt.2|  -52.1919  |2.77, 2.77, 13.79|-38681,-38681,-45782 |   3, 8, 26    \n",
      "-- db['CoO2.su.u_ion_relax_opt.3']|CoO2.su.u_ion_relax_opt.3|  -52.3295  |2.84, 2.84, 14.15|-45868,-45868,-45397 |   4, 9, 36    \n",
      "-- db['CoO2.su.u_ion_relax_opt.4']|CoO2.su.u_ion_relax_opt.4|  -52.2064  |2.91, 2.91, 14.50|-50146,-50146,-42403 |   4,11, 44    \n",
      "-- db['CoO2.su.u_ion_relax_opt.5']|CoO2.su.u_ion_relax_opt.5|  -51.9030  |2.98, 2.98, 14.85|-51533,-51533,-40237 |   5,11, 56    \n"
     ]
    },
    {
     "name": "stderr",
     "output_type": "stream",
     "text": [
      "The PostScript backend does not support transparency; partially transparent artists will be rendered opaque.\n",
      "The PostScript backend does not support transparency; partially transparent artists will be rendered opaque.\n",
      "The PostScript backend does not support transparency; partially transparent artists will be rendered opaque.\n",
      "The PostScript backend does not support transparency; partially transparent artists will be rendered opaque.\n",
      "The PostScript backend does not support transparency; partially transparent artists will be rendered opaque.\n"
     ]
    },
    {
     "name": "stdout",
     "output_type": "stream",
     "text": [
      "-- db['CoO2.su.u_ion_relax_opt.100']|CoO2.su.u_ion_relax_opt.100|  -52.3477  |2.84, 2.84, 14.13|-45493,-45493,-45520 |   2,11, 23    \n",
      "alpha, energy: 90.00, -51.613\n",
      "alpha, energy: 90.00, -52.192\n",
      "alpha, energy: 90.00, -52.330\n",
      "alpha, energy: 90.00, -52.206\n",
      "alpha, energy: 90.00, -51.903\n",
      "alpha, energy: 90.00, -52.348\n",
      "-- Image saved to  figs/angle.eps \n",
      "\n",
      "\n",
      "            v0 = 98.62613525722155 A^3\n",
      "            a0 = 4.62023435492817 A\n",
      "            E0 = -52.339567126029806 eV\n",
      "            B  = 0.5146057094852647 eV/A^3 \n",
      "\n"
     ]
    },
    {
     "data": {
      "image/png": "[encoded data removed]",
      "text/plain": [
       "<Figure size 432x288 with 1 Axes>"
      ]
     },
     "metadata": {},
     "output_type": "display_data"
    },
    {
     "name": "stdout",
     "output_type": "stream",
     "text": [
      "-- fit results are saved in  figs/CoO2.su.u_ion_relax_opt.100.png \n",
      "\n"
     ]
    },
    {
     "data": {
      "text/plain": [
       "([\"db['CoO2.su.u_ion_relax_opt.100']|CoO2.su.u_ion_relax_opt.100|  -52.3477  |2.84, 2.84, 14.13|-45493,-45493,-45520 |   2,11, 23   \"],\n",
       " [])"
      ]
     },
     "execution_count": 25,
     "metadata": {},
     "output_type": "execute_result"
    }
   ],
   "source": [
    "res('CoO2.su', 'u_ion_relax_opt', list(range(1,6))+[100], show = 'fit', analys_type = 'fit_a')"
   ]
  },
  {
   "cell_type": "code",
   "execution_count": 26,
   "metadata": {},
   "outputs": [
    {
     "data": {
      "text/plain": [
       "<siman.classes.CalculationVasp at 0x7efcdd256240>"
      ]
     },
     "execution_count": 26,
     "metadata": {},
     "output_type": "execute_result"
    }
   ],
   "source": [
    "db['CoO2.su.u_ion_relax_opt.100'] # calculation object of CoO2 optimized structure"
   ]
  },
  {
   "cell_type": "code",
   "execution_count": 27,
   "metadata": {},
   "outputs": [
    {
     "name": "stdout",
     "output_type": "stream",
     "text": [
      "\n",
      "Database has been successfully updated\n",
      "\n"
     ]
    }
   ],
   "source": [
    "write_database()"
   ]
  },
  {
   "cell_type": "markdown",
   "metadata": {},
   "source": [
    "## Redox potential calculation"
   ]
  },
  {
   "cell_type": "markdown",
   "metadata": {},
   "source": [
    "The equation for deintercalation potential you can find in *Aksyonov, D. A., Fedotov, S. S., Stevenson, K. J., & Zhugayevych, A. (2018). Understanding migration barriers for monovalent ion insertion in transition metal oxide and phosphate based cathode materials: a DFT study. Computational Materials Science, 154, 449-458.*"
   ]
  },
  {
   "cell_type": "code",
   "execution_count": 15,
   "metadata": {},
   "outputs": [],
   "source": [
    "from siman.analysis import calc_redox # import function which allows to calculate redox potential"
   ]
  },
  {
   "cell_type": "code",
   "execution_count": 20,
   "metadata": {},
   "outputs": [
    {
     "name": "stdout",
     "output_type": "stream",
     "text": [
      "-- LiCoO2.su.u_ion_relax_opt.100                 | CoO2.su.u_ion_relax_opt.100    |       3.83 V |       -0.3 % | -69.53| -52.35|      5|      2 |   0 \n"
     ]
    },
    {
     "data": {
      "text/plain": [
       "{'is': 'LiCoO2.su',\n",
       " 'redox_pot': 3.8287920399999984,\n",
       " 'id_is': ('LiCoO2.su', 'u_ion_relax_opt', 100),\n",
       " 'id_ds': ('CoO2.su', 'u_ion_relax_opt', 100),\n",
       " 'kspacing': 0.7,\n",
       " 'time': 0.18713583333333333,\n",
       " 'mdstep': 2,\n",
       " 'ecut': 300,\n",
       " 'niter': 9.5,\n",
       " 'set_is': 'u_ion_relax_opt',\n",
       " 'vol_red': -0.3049090354710888}"
      ]
     },
     "execution_count": 20,
     "metadata": {},
     "output_type": "execute_result"
    }
   ],
   "source": [
    "LiCoO2_u = db['LiCoO2.su.u_ion_relax_opt.100']\n",
    "CoO2_u = db['CoO2.su.u_ion_relax_opt.100']\n",
    "calc_redox(LiCoO2_u, CoO2_u)"
   ]
  },
  {
   "cell_type": "markdown",
   "metadata": {},
   "source": [
    "## Compare with experimental data\n",
    "Ceder, G., Van der Ven, A., & Aydinol, M. K. (1998). Lithium-intercalation oxides for rechargeable batteries. JOM, 50(9), 35-40. https://link.springer.com/article/10.1007/s11837-998-0412-5 \n"
   ]
  },
  {
   "cell_type": "code",
   "execution_count": null,
   "metadata": {},
   "outputs": [],
   "source": []
  },
  {
   "cell_type": "markdown",
   "metadata": {},
   "source": [
    "# Volume change after extraction of Li ions"
   ]
  },
  {
   "cell_type": "code",
   "execution_count": 22,
   "metadata": {},
   "outputs": [
    {
     "name": "stdout",
     "output_type": "stream",
     "text": [
      "Volume change is -0.879 A^3\n"
     ]
    }
   ],
   "source": [
    "print(r\"Volume change is {:1.3f} A^3\".format(CoO2_u.end.get_volume() - LiCoO2_u.end.get_volume()))"
   ]
  },
  {
   "cell_type": "code",
   "execution_count": null,
   "metadata": {},
   "outputs": [],
   "source": []
  },
  {
   "cell_type": "code",
   "execution_count": null,
   "metadata": {},
   "outputs": [],
   "source": []
  }
 ],
 "metadata": {
  "kernelspec": {
   "display_name": "Python 3",
   "language": "python",
   "name": "python3"
  },
  "language_info": {
   "codemirror_mode": {
    "name": "ipython",
    "version": 3
   },
   "file_extension": ".py",
   "mimetype": "text/x-python",
   "name": "python",
   "nbconvert_exporter": "python",
   "pygments_lexer": "ipython3",
   "version": "3.6.5"
  }
 },
 "nbformat": 4,
 "nbformat_minor": 2
}
