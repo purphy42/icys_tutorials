{
 "cells": [
  {
   "cell_type": "markdown",
   "metadata": {},
   "source": [
    "# Tutorial 12: Li migration in solids - Li3N and Li3PO4 examples"
   ]
  },
  {
   "cell_type": "markdown",
   "metadata": {},
   "source": [
    "## Import libraries"
   ]
  },
  {
   "cell_type": "code",
   "execution_count": 1,
   "metadata": {},
   "outputs": [
    {
     "name": "stdout",
     "output_type": "stream",
     "text": [
      "/home/t.goryacheva/simanrc.py was read\n"
     ]
    }
   ],
   "source": [
    "import siman #program package to manage DFT calculations https://github.com/dimonaks/siman\n",
    "from siman.calc_manage import smart_structure_read, get_structure_from_matproj\n",
    "from siman.calc_manage import add, res\n",
    "from siman.set_functions import read_vasp_sets\n",
    "from siman.database import write_database, read_database\n",
    "from siman.header import db\n",
    "read_database() # read saved database if available\n",
    "import project_sets # should be after read_database\n",
    "varset = read_vasp_sets(project_sets.user_vasp_sets, override_global = 0) #read user sets\n",
    "\n",
    "\n",
    "%matplotlib inline"
   ]
  },
  {
   "cell_type": "markdown",
   "metadata": {},
   "source": [
    "## Li3N get bulk structure"
   ]
  },
  {
   "cell_type": "markdown",
   "metadata": {},
   "source": [
    "**get structure from Material Project**"
   ]
  },
  {
   "cell_type": "code",
   "execution_count": 2,
   "metadata": {},
   "outputs": [
    {
     "name": "stdout",
     "output_type": "stream",
     "text": [
      "Structure mp-2341 downloaded from materialsproject.org\n",
      " File mp-2341.POSCAR was written \n",
      "\n",
      "Full Formula (Li6 N2)\n",
      "Reduced Formula: Li3N\n",
      "abc   :   3.564526   3.564526   6.348980\n",
      "angles:  90.000000  90.000000 119.999999\n",
      "Sites (8)\n",
      "  #  SP           a         b         c\n",
      "---  ----  --------  --------  --------\n",
      "  0  Li    0         0         0.25\n",
      "  1  Li    0         0         0.75\n",
      "  2  Li    0.333333  0.666667  0.576653\n",
      "  3  Li    0.666667  0.333333  0.076653\n",
      "  4  Li    0.666667  0.333333  0.423347\n",
      "  5  Li    0.333333  0.666667  0.923347\n",
      "  6  N     0.333333  0.666667  0.25\n",
      "  7  N     0.666667  0.333333  0.75\n",
      "('P6_3/mmc', 194)\n"
     ]
    },
    {
     "data": {
      "text/plain": [
       "('P6_3/mmc', 194)"
      ]
     },
     "execution_count": 2,
     "metadata": {},
     "output_type": "execute_result"
    }
   ],
   "source": [
    "st_Li3N = get_structure_from_matproj(mat_proj_id = 'mp-2341')\n",
    "st_Li3N.printme()\n",
    "st_Li3N.sg()"
   ]
  },
  {
   "cell_type": "markdown",
   "metadata": {},
   "source": [
    "**create not too big supercell ~ 7x7x7 A^3**"
   ]
  },
  {
   "cell_type": "code",
   "execution_count": 3,
   "metadata": {},
   "outputs": [
    {
     "name": "stdout",
     "output_type": "stream",
     "text": [
      "Full Formula (Li24 N8)\n",
      "Reduced Formula: Li3N\n",
      "abc   :   7.129052   7.129052   6.348980\n",
      "angles:  90.000000  90.000000 119.999999\n",
      "Sites (32)\n",
      "  #  SP           a         b         c\n",
      "---  ----  --------  --------  --------\n",
      "  0  Li    0         0         0.25\n",
      "  1  Li    0         0.5       0.25\n",
      "  2  Li    0.5       0         0.25\n",
      "  3  Li    0.5       0.5       0.25\n",
      "  4  Li    0         0         0.75\n",
      "  5  Li    0         0.5       0.75\n",
      "  6  Li    0.5       0         0.75\n",
      "  7  Li    0.5       0.5       0.75\n",
      "  8  Li    0.166666  0.333334  0.576653\n",
      "  9  Li    0.166666  0.833333  0.576653\n",
      " 10  Li    0.666667  0.333334  0.576653\n",
      " 11  Li    0.666666  0.833333  0.576653\n",
      " 12  Li    0.333334  0.166666  0.076653\n",
      " 13  Li    0.333334  0.666667  0.076653\n",
      " 14  Li    0.833333  0.166666  0.076653\n",
      " 15  Li    0.833333  0.666666  0.076653\n",
      " 16  Li    0.333334  0.166666  0.423347\n",
      " 17  Li    0.333334  0.666667  0.423347\n",
      " 18  Li    0.833333  0.166666  0.423347\n",
      " 19  Li    0.833333  0.666666  0.423347\n",
      " 20  Li    0.166666  0.333334  0.923347\n",
      " 21  Li    0.166666  0.833333  0.923347\n",
      " 22  Li    0.666667  0.333334  0.923347\n",
      " 23  Li    0.666666  0.833333  0.923347\n",
      " 24  N     0.166666  0.333334  0.25\n",
      " 25  N     0.166666  0.833333  0.25\n",
      " 26  N     0.666667  0.333334  0.25\n",
      " 27  N     0.666666  0.833333  0.25\n",
      " 28  N     0.333334  0.166666  0.75\n",
      " 29  N     0.333334  0.666667  0.75\n",
      " 30  N     0.833333  0.166666  0.75\n",
      " 31  N     0.833333  0.666666  0.75\n"
     ]
    }
   ],
   "source": [
    "sc_Li3N = st_Li3N.replic([2,2,1])\n",
    "sc_Li3N.printme()"
   ]
  },
  {
   "cell_type": "markdown",
   "metadata": {},
   "source": [
    "**run calculation on cluster**"
   ]
  },
  {
   "cell_type": "code",
   "execution_count": 6,
   "metadata": {},
   "outputs": [
    {
     "name": "stdout",
     "output_type": "stream",
     "text": [
      "-- Attention!, cluster None is not found, using default raz \n",
      "\n",
      "-- check_kpoints(): Kpoint   mesh is:  [6, 6, 5] \n",
      "\n",
      "-- check_kpoints(): The actual k-spacings are  [0.17 0.17 0.2 ] \n",
      "\n",
      "-- POSCAR was written to Li3N///Li3N.ion_relax_opt/1.POSCAR \n",
      "\n",
      "-- Attention! ngkpt =  [6, 6, 5]  is adopted from struct_des which you provided for it  Li3N  and kspacing =  0.2 \n",
      "\n",
      "\n",
      "Calculation ('Li3N', 'ion_relax_opt', 1) successfully created\n",
      "\n",
      " \n",
      "\n",
      "JOBID PARTITION     NAME     USER ST       TIME  NODES NODELIST(REASON) \n",
      "              1354   Regular Li3N.ion a.akhmad  R       1:56      1 cest-cms-razor \n",
      "              1355   Regular Li3N.ion m.siroti  R       0:06      1 cest-cms-razor \n",
      "Submitted batch job 1356\n",
      "             JOBID PARTITION     NAME     USER ST       TIME  NODES NODELIST(REASON) \n",
      "              1356   Regular Li3N.ion t.goryac PD       0:00      1 (None) \n",
      "              1354   Regular Li3N.ion a.akhmad  R       1:56      1 cest-cms-razor \n",
      "              1355   Regular Li3N.ion m.siroti  R       0:06      1 cest-cms-razor \n",
      "\n",
      "-- To read results use  res_loop('Li3N', ['ion_relax_opt'], [1], show = 'fo'  )     # , on 2022-11-20   ; possible options for show: fit, fo, fop, en, mag, magp, smag, maga, occ, occ1, mep, mepp \n",
      "\n"
     ]
    },
    {
     "data": {
      "text/plain": [
       "'Li3N'"
      ]
     },
     "execution_count": 6,
     "metadata": {},
     "output_type": "execute_result"
    }
   ],
   "source": [
    "add('Li3N', 'ion_relax_opt', 1, input_st = sc_Li3N, it_folder = 'Li3N/', run = 0)"
   ]
  },
  {
   "cell_type": "code",
   "execution_count": 14,
   "metadata": {},
   "outputs": [
    {
     "name": "stdout",
     "output_type": "stream",
     "text": [
      "-- Low + high =  [3.4e-05, 6.8e-05, 4.4e-06, 0.00025, 1.6e-05, 1.8e-05, 1.9e-05, 0.0011] \n",
      "\n",
      "-- [False, False, False, False, False, False, False, True] \n",
      "\n",
      "\n",
      "\n",
      "Max. F. tot  (meV/A) = \n",
      "[15]; \n",
      "\n",
      "--                           |  energy(eV)|    Vector lenghts (A)   | Stresses (MPa)     | N MD, N SCF    \n",
      "-- db['Li3N.ion_relax_opt.1']    |Li3N.ion_relax_opt.1| -124.2675  |7.13, 7.13, 6.35|-12317,-12317,-12280 |   1,12, 12    \n"
     ]
    },
    {
     "data": {
      "text/plain": [
       "([\"db['Li3N.ion_relax_opt.1']    |Li3N.ion_relax_opt.1| -124.2675  |7.13, 7.13, 6.35|-12317,-12317,-12280 |   1,12, 12   \"],\n",
       " [])"
      ]
     },
     "execution_count": 14,
     "metadata": {},
     "output_type": "execute_result"
    }
   ],
   "source": [
    "res('Li3N', 'ion_relax_opt', 1)"
   ]
  },
  {
   "cell_type": "code",
   "execution_count": 15,
   "metadata": {},
   "outputs": [],
   "source": [
    "sc = db['Li3N', 'ion_relax_opt', 1].end # end structure of this calculation will be used for NEB calculation"
   ]
  },
  {
   "cell_type": "markdown",
   "metadata": {},
   "source": [
    "## Li3N create NEB calculation (migration barrier)"
   ]
  },
  {
   "cell_type": "code",
   "execution_count": 12,
   "metadata": {},
   "outputs": [],
   "source": [
    "from siman.neb import add_neb #special function allowing running NEB calculations"
   ]
  },
  {
   "cell_type": "code",
   "execution_count": 17,
   "metadata": {},
   "outputs": [
    {
     "name": "stdout",
     "output_type": "stream",
     "text": [
      "-- add_neb(): determine_symmetry_positions ... \n",
      "\n",
      "-- I have found  2 non-equivalent positions for Li : dict_keys([0, 8]) \n",
      "-- Atom numbers (from zero!):  {0: [0, 1, 2, 3, 4, 5, 6, 7], 8: [8, 9, 10, 11, 12, 13, 14, 15, 16, 17, 18, 19, 20, 21, 22, 23]} \n",
      "\n",
      "-- Please choose position using *i_void_start* : [1, 2] \n",
      "\n",
      "-- Position 1 chosen, atom: 1 Li \n",
      "\n",
      "-- You have chosen vacancy_creation mode of add_neb tool \n",
      "\n",
      "-- Type of atom to move =  Li \n",
      "\n",
      "I can suggest you 14 end positions. The distances to them are :  [2.33 2.33 2.33 2.33 2.33 2.33 2.92 2.92 2.92 2.92 2.92 2.92 3.17 3.17]  A\n",
      "  They are  ['Li'] atoms, use *i_void_final* to choose required: 1, 2, 3 .. \n",
      "\n",
      "-- Their symmetry positions are  [2, 2, 2, 2, 2, 2, 2, 2, 2, 2, 2, 2, 1, 1] \n",
      "\n",
      "-- Choosing position  1 with distance 2.33 A \n",
      "\n",
      "-- It is symmetrically non-equiv position # 2 \n",
      "\n",
      "Reduced precision is 1.4027212792818067e-07 \n",
      "Difference is  0.0 A for atom 14\n",
      "-- Atom 14 [ 3.564526   -4.11596206  0.48666836] corresponds to the requested atom with difference 0.0 A \n",
      "\n",
      "-- number of atom to delete =  14 \n",
      "\n",
      "-- Making vacancy at end position for starting configuration \n",
      "\n",
      "-- Creating geo files for starting and final configurations (versions 1 and 2)  \n",
      "\n",
      "Trying to find x_m [0.       0.       1.587245]\n",
      "Reduced precision is 0.06312245756768131 \n",
      "Difference is  0.0 A for atom 0\n",
      "-- Atom 0 [0.       0.       1.587245] corresponds to the requested atom with difference 0.0 A \n",
      "\n",
      "Trying to find x_del [0.         2.05797794 0.48666836]\n",
      "Reduced precision is 0.06312245756768131 \n",
      "Difference is  0.0 A for atom 0\n",
      "-- Atom 0 [ 3.564526   -4.11596206  0.48666836] corresponds to the requested atom with difference 0.0 A \n",
      "\n",
      "Reduced precision is 0.06312245756768131 \n",
      "Difference is  0.0 A for atom 22\n",
      "-- Atom 22 [0.       0.       1.587245] corresponds to the requested atom with difference 0.0 A \n",
      "\n",
      "Reduced precision is 0.06312245756768131 \n",
      "Difference is  0.0 A for atom 22\n",
      "-- Atom 22 [ 3.564526   -4.11596206  0.48666836] corresponds to the requested atom with difference 0.0 A \n",
      "\n",
      "-- Warning! File ./Li3N/neb/Li3N.n3Li1v1/Li3N.n3Li1v1.auto_created_starting_position_for_neb_vacancy_creation.1.geo was replaced \n",
      "\n",
      "-- Warning! File ./Li3N/neb/Li3N.n3Li1v1/Li3N.n3Li1v1.auto_created_final_position_for_neb_vacancy_creation.2.geo was replaced \n",
      "\n",
      "-- File xyz/Li3N.n3Li1v1_start.xyz was written \n",
      "\n",
      "-- File xyz/Li3N.n3Li1v1_end.xyz was written \n",
      "\n",
      "-- POSCAR was written to xyz/POSCAR1 \n",
      "\n",
      "-- POSCAR was written to xyz/POSCAR2 \n",
      "\n",
      "filetype1: vasp5\n",
      "filetype2: vasp5\n",
      "\n",
      "OK, ALL SETUP HERE\n",
      "FOR LATER ANALYSIS, PUT OUTCARs IN FOLDERS 00 and 04 !!!\n",
      "-- Attention!, cluster None is not found, using default raz \n",
      "\n",
      "-- Attention, I update number of images in the set to 3 for this calculation;  \n",
      "\n",
      "-- check_kpoints(): Kpoint   mesh is:  [6, 6, 5] \n",
      "\n",
      "-- check_kpoints(): The actual k-spacings are  [0.17 0.17 0.2 ] \n",
      "\n",
      "-- POSCAR was written to Li3N/neb//Li3N.n3Li1v1.ion_relax_opt/1.POSCAR \n",
      "\n",
      "\n",
      "Calculation ('Li3N.n3Li1v1', 'ion_relax_opt', 1) successfully created\n",
      "\n",
      " \n",
      "\n",
      "-- check_kpoints(): Kpoint   mesh is:  [6, 6, 5] \n",
      "\n",
      "-- check_kpoints(): The actual k-spacings are  [0.17 0.17 0.2 ] \n",
      "\n",
      "-- POSCAR was written to Li3N/neb//Li3N.n3Li1v1.ion_relax_opt/2.POSCAR \n",
      "\n",
      "-- Attention! ngkpt =  [6, 6, 5]  is adopted from struct_des which you provided for it  Li3N.n3Li1v1  and kspacing =  0.2 \n",
      "\n",
      "\n",
      "Calculation ('Li3N.n3Li1v1', 'ion_relax_opt', 2) successfully created\n",
      "\n",
      " \n",
      "\n",
      "JOBID PARTITION     NAME     USER ST       TIME  NODES NODELIST(REASON) \n",
      "              1360   Regular Li3N.n3L s.cherny PD       0:00      1 (Resources) \n",
      "              1359   Regular Li3N.n3L a.akhmad  R       0:04      1 cest-cms-razor \n",
      "Submitted batch job 1361\n",
      "             JOBID PARTITION     NAME     USER ST       TIME  NODES NODELIST(REASON) \n",
      "              1360   Regular Li3N.n3L s.cherny PD       0:00      1 (Resources) \n",
      "              1361   Regular Li3N.n3L t.goryac PD       0:00      1 (Priority) \n",
      "              1359   Regular Li3N.n3L a.akhmad  R       0:04      1 cest-cms-razor \n",
      "\n",
      "-- To read results use  res_loop('Li3N.n3Li1v1', ['ion_relax_opt'], [1, 2], show = 'fo'  )     # , on 2022-11-20   ; possible options for show: fit, fo, fop, en, mag, magp, smag, maga, occ, occ1, mep, mepp \n",
      "\n",
      "-- Please be sure that vtsttools are at t.goryacheva@10.30.99.220 /hdd2/home/t.goryacheva/tools/vts/ \n",
      "\n"
     ]
    },
    {
     "data": {
      "text/plain": [
       "'Li3N.n3Li1v1'"
      ]
     },
     "execution_count": 17,
     "metadata": {},
     "output_type": "execute_result"
    }
   ],
   "source": [
    "add_neb(st = sc, it_new = 'Li3N', ise_new = 'ion_relax_opt', it_new_folder = 'Li3N/neb',\n",
    "        i_atom_to_move = 0,\n",
    "        i_void_start = 1,\n",
    "        i_void_final = 1,\n",
    "        images = 3, upload_vts = 0, run = 1)   "
   ]
  },
  {
   "cell_type": "markdown",
   "metadata": {},
   "source": [
    "## Attention !!!"
   ]
  },
  {
   "cell_type": "markdown",
   "metadata": {},
   "source": [
    "**Go to terminal and type some commands:** \n",
    "\n",
    "\n",
    "1) *cd ~/tutorials/xyz* - to change directory\n",
    "\n",
    "2) *zip -r neb.zip Li3N.n3Li1v1_all* - to create an archive 'neb.zip'\n",
    "\n",
    "**neb.zip should be downloaded and opened by Jmol**\n",
    "\n",
    "\n",
    "\n",
    "\n",
    "\n",
    "\n",
    "\n",
    " \n",
    " \n",
    "  \n",
    "  \n",
    "   \n"
   ]
  },
  {
   "cell_type": "code",
   "execution_count": null,
   "metadata": {},
   "outputs": [],
   "source": [
    "res('Li3N.n3Li1v1', 'ion_relax_opt', [1,2,3,4,5], show = 'fomepp', analys_type = 'neb')"
   ]
  },
  {
   "cell_type": "markdown",
   "metadata": {},
   "source": [
    "## Try to calculate another migration barrier in Li3N"
   ]
  },
  {
   "cell_type": "code",
   "execution_count": null,
   "metadata": {},
   "outputs": [],
   "source": [
    "add_neb(st = sc, it_new = 'Li3N', ise_new = 'ion_relax_opt', it_new_folder = 'Li3N/neb',\n",
    "        i_atom_to_move = 17,\n",
    "        i_void_start = 1,\n",
    "        i_void_final = 2,\n",
    "        images = 3, upload_vts = 0, run = 0)  "
   ]
  },
  {
   "cell_type": "code",
   "execution_count": null,
   "metadata": {},
   "outputs": [],
   "source": [
    "res('Li3N.n3Li18Li18v2', 'ion_relax_opt', [1,2,3,4,5], show = 'fomepp', analys_type = 'neb' )"
   ]
  },
  {
   "cell_type": "markdown",
   "metadata": {},
   "source": [
    "**Compare your result with:**\n",
    "*Li, W., Wu, G., Araújo, C. M., Scheicher, R. H., Blomqvist, A., Ahuja, R., ... & Chen, P. (2010). Li+ ion conductivity and diffusion mechanism in α-Li3N and β-Li3N. Energy & environmental science, 3(10), 1524-1530.*"
   ]
  },
  {
   "cell_type": "markdown",
   "metadata": {},
   "source": [
    "## Li3PO4 create NEB calculation (migration barrier)"
   ]
  },
  {
   "cell_type": "markdown",
   "metadata": {},
   "source": [
    "**get structure from Materials Project**"
   ]
  },
  {
   "cell_type": "code",
   "execution_count": null,
   "metadata": {},
   "outputs": [],
   "source": [
    "st_Li3PO4 = get_structure_from_matproj(mat_proj_id = 'mp-13725')\n",
    "st_Li3PO4.printme()\n",
    "st_Li3PO4.sg()"
   ]
  },
  {
   "cell_type": "markdown",
   "metadata": {},
   "source": [
    "**As given structure has rather enough size ~5x5x6 A^3, we won't create a supercell**\n",
    "\n",
    "\n",
    "**run calculation on cluster**"
   ]
  },
  {
   "cell_type": "code",
   "execution_count": null,
   "metadata": {},
   "outputs": [],
   "source": [
    "add('Li3PO4', 'ion_relax_opt', 1, input_st = st_Li3PO4, it_folder = 'Li3PO4/', run =0)"
   ]
  },
  {
   "cell_type": "code",
   "execution_count": null,
   "metadata": {},
   "outputs": [],
   "source": [
    "#read results\n",
    "res('Li3PO4', 'ion_relax_opt', 1)"
   ]
  },
  {
   "cell_type": "code",
   "execution_count": null,
   "metadata": {},
   "outputs": [],
   "source": [
    "st = db['Li3PO4.ion_relax_opt.1'].end # end structure will be used for NEB calculation"
   ]
  },
  {
   "cell_type": "markdown",
   "metadata": {},
   "source": [
    "# Li3PO4 create NEB calculation (migration barrier)"
   ]
  },
  {
   "cell_type": "code",
   "execution_count": null,
   "metadata": {},
   "outputs": [],
   "source": [
    "add_neb(st = st, it_new = 'Li3PO4', ise_new = 'ion_relax_opt', it_new_folder = 'Li3PO4/neb',\n",
    "        images = 3, i_void_start = 1, run = 0)"
   ]
  },
  {
   "cell_type": "code",
   "execution_count": null,
   "metadata": {},
   "outputs": [],
   "source": [
    "res('Li3PO4.n3Li1v1', 'ion_relax_opt', [1,2,3,4,5], show = 'fomepp.neb_geo', analys_type = 'neb' )"
   ]
  },
  {
   "cell_type": "markdown",
   "metadata": {},
   "source": [
    "**Compare your result with** Du, Y. A., & Holzwarth, N. A. W. (2007). Li ion diffusion mechanisms in the crystalline electrolyte γ-Li3PO4. Journal of the Electrochemical Society, 154(11), A999."
   ]
  },
  {
   "cell_type": "code",
   "execution_count": null,
   "metadata": {},
   "outputs": [],
   "source": [
    "write_database()"
   ]
  }
 ],
 "metadata": {
  "kernelspec": {
   "display_name": "Python 3",
   "language": "python",
   "name": "python3"
  },
  "language_info": {
   "codemirror_mode": {
    "name": "ipython",
    "version": 3
   },
   "file_extension": ".py",
   "mimetype": "text/x-python",
   "name": "python",
   "nbconvert_exporter": "python",
   "pygments_lexer": "ipython3",
   "version": "3.6.5"
  }
 },
 "nbformat": 4,
 "nbformat_minor": 2
}
