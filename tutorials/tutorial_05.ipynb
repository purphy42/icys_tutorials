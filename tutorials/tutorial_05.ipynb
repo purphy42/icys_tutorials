{
 "cells": [
  {
   "cell_type": "markdown",
   "metadata": {},
   "source": [
    "# Tutorial 5: Calculation of total energy of metallic Li (single point calculation)\n"
   ]
  },
  {
   "cell_type": "markdown",
   "metadata": {},
   "source": [
    "## Import libraries"
   ]
  },
  {
   "cell_type": "code",
   "execution_count": 2,
   "metadata": {
    "scrolled": true
   },
   "outputs": [
    {
     "name": "stdout",
     "output_type": "stream",
     "text": [
      "/home/t.goryacheva/simanrc.py was read\n"
     ]
    }
   ],
   "source": [
    "import siman #program package to manage DFT calculations https://github.com/dimonaks/siman\n",
    "from siman.calc_manage import smart_structure_read, get_structure_from_matproj\n",
    "from siman.calc_manage import add, res\n",
    "from siman.set_functions import read_vasp_sets\n",
    "from siman.database import write_database, read_database\n",
    "from siman.header import db\n",
    "read_database() # read saved database if available\n",
    "import project_sets # should be after read_database\n",
    "varset = read_vasp_sets(project_sets.user_vasp_sets, override_global = 0) #read user sets\n",
    "\n",
    "\n",
    "%matplotlib inline"
   ]
  },
  {
   "cell_type": "code",
   "execution_count": 3,
   "metadata": {},
   "outputs": [],
   "source": [
    "import matplotlib.pyplot as plt\n",
    "import warnings\n",
    "warnings.filterwarnings('ignore')"
   ]
  },
  {
   "cell_type": "markdown",
   "metadata": {},
   "source": [
    "## Read POSCAR"
   ]
  },
  {
   "cell_type": "code",
   "execution_count": 3,
   "metadata": {},
   "outputs": [
    {
     "name": "stdout",
     "output_type": "stream",
     "text": [
      "Full Formula (Li2)\n",
      "Reduced Formula: Li\n",
      "abc   :   3.491000   3.491000   3.491000\n",
      "angles:  90.000000  90.000000  90.000000\n",
      "Sites (2)\n",
      "  #  SP      a    b    c\n",
      "---  ----  ---  ---  ---\n",
      "  0  Li    0    0    0\n",
      "  1  Li    0.5  0.5  0.5\n",
      "('Im-3m', 229)\n"
     ]
    },
    {
     "data": {
      "text/plain": [
       "('Im-3m', 229)"
      ]
     },
     "execution_count": 3,
     "metadata": {},
     "output_type": "execute_result"
    }
   ],
   "source": [
    "st = smart_structure_read('Li2_POSCAR') #read POSCAR file, which you can find in your home directiory\n",
    "st.printme() # show structure object\n",
    "st.sg() # show symmetry group"
   ]
  },
  {
   "cell_type": "markdown",
   "metadata": {},
   "source": [
    "## Convert to different formats"
   ]
  },
  {
   "cell_type": "code",
   "execution_count": 4,
   "metadata": {},
   "outputs": [
    {
     "name": "stdout",
     "output_type": "stream",
     "text": [
      "-- File xyz/Li2_.xyz was written \n",
      "\n"
     ]
    },
    {
     "data": {
      "text/plain": [
       "('xyz/Li2_.xyz', None)"
      ]
     },
     "execution_count": 4,
     "metadata": {},
     "output_type": "execute_result"
    }
   ],
   "source": [
    "st.write_xyz() # xyz format"
   ]
  },
  {
   "cell_type": "markdown",
   "metadata": {},
   "source": [
    "**Now you can find written file in xyz folder**"
   ]
  },
  {
   "cell_type": "code",
   "execution_count": null,
   "metadata": {},
   "outputs": [],
   "source": [
    "st.write_cif() # cif format"
   ]
  },
  {
   "cell_type": "markdown",
   "metadata": {},
   "source": [
    "**Now you can find written file in cif folder**"
   ]
  },
  {
   "cell_type": "markdown",
   "metadata": {},
   "source": [
    "## Set input parameters"
   ]
  },
  {
   "cell_type": "code",
   "execution_count": 5,
   "metadata": {},
   "outputs": [
    {
     "name": "stdout",
     "output_type": "stream",
     "text": [
      "dict_keys(['aks', 'static', 'opt', 'static_opt', None, 'static_opt_morebands', 'static_energy_100', 'static_energy_200', 'static_energy_300', 'static_energy_400', 'ion_relax_opt', 'u_ion_relax_opt'])\n"
     ]
    }
   ],
   "source": [
    "print(varset.keys()) # varset is a dictionary with created sets of VASP parameters"
   ]
  },
  {
   "cell_type": "code",
   "execution_count": 6,
   "metadata": {},
   "outputs": [
    {
     "name": "stdout",
     "output_type": "stream",
     "text": [
      "-- s.vasp_params['EDIFF']         = 1e-05  \n",
      "-- s.vasp_params['NSW']           = 0  \n",
      "-- s.vasp_params['EDIFFG']        = 0  \n",
      "-- s.vasp_params['IBRION']        = 1  \n",
      "-- s.vasp_params['ISIF']          = 2  \n",
      "-- s.vasp_params['ENCUT']         = 300  \n",
      "-- s.vasp_params['ENAUG']         = 700.0  \n",
      "-- s.vasp_params['KSPACING']      = 0.2  \n",
      "-- s.vasp_params['LREAL']         = Auto  \n",
      "-- s.vasp_params['ISMEAR']        = 0  \n",
      "-- ngkpt: None \n",
      "\n",
      "-- POTDIR: {300: 'void', 200: 'octa', 0: 'n', 1: 'H', 2: 'He', 3: 'Li', 4: 'Be', 5: 'B', 6: 'C', 7: 'N', 8: 'O', 9: 'F', 10: 'Ne', 11: 'Na', 12: 'Mg', 13: 'Al', 14: 'Si', 15: 'P', 16: 'S', 17: 'Cl', 18: 'Ar', 19: 'K', 20: 'Ca', 21: 'Sc', 22: 'Ti', 23: 'V', 24: 'Cr', 25: 'Mn', 26: 'Fe', 27: 'Co', 28: 'Ni', 29: 'Cu', 30: 'Zn', 31: 'Ga', 32: 'Ge', 33: 'As', 34: 'Se', 35: 'Br', 36: 'Kr', 37: 'Rb', 38: 'Sr', 39: 'Y', 40: 'Zr', 41: 'Nb', 42: 'Mo', 43: 'Tc', 44: 'Ru', 45: 'Rh', 46: 'Pd', 47: 'Ag', 48: 'Cd', 49: 'In', 50: 'Sn', 51: 'Sb', 52: 'Te', 53: 'I', 54: 'Xe', 55: 'Cs', 56: 'Ba', 57: 'La', 58: 'Ce', 59: 'Pr', 60: 'Nd', 61: 'Pm', 62: 'Sm', 63: 'Eu', 64: 'Gd', 65: 'Tb', 66: 'Dy', 67: 'Ho', 68: 'Er', 69: 'Tm', 70: 'Yb', 71: 'Lu', 72: 'Hf', 73: 'Ta', 74: 'W', 75: 'Re', 76: 'Os', 77: 'Ir', 78: 'Pt', 79: 'Au', 80: 'Hg', 81: 'Tl', 82: 'Pb', 83: 'Bi', 84: 'Po', 85: 'At', 86: 'Rn', 87: 'Fr', 88: 'Ra', 89: 'Ac', 90: 'Th', 91: 'Pa', 92: 'U', 93: 'Np', 94: 'Pu', 95: 'Am', 96: 'Cm', 97: 'Bk', 98: 'Cf', 99: 'Es', 100: 'Fm', 101: 'Md', 102: 'No', 103: 'Lr', 104: 'Rf', 105: 'Db', 106: 'Sg', 107: 'Bh', 108: 'Hs', 109: 'Mt', 110: 'Ds', 111: 'Rg', 112: 'Cn', 114: 'Uuq', 116: 'Uuh'} \n"
     ]
    }
   ],
   "source": [
    "varset['static_opt'].printme() #show all the VASP parameters that set 'static' includes"
   ]
  },
  {
   "cell_type": "markdown",
   "metadata": {},
   "source": [
    "## Running job on cluster"
   ]
  },
  {
   "cell_type": "code",
   "execution_count": 10,
   "metadata": {},
   "outputs": [
    {
     "name": "stdout",
     "output_type": "stream",
     "text": [
      "-- Attention!, cluster None is not found, using default raz \n",
      "\n",
      "-- check_kpoints(): Kpoint   mesh is:  [9, 9, 9] \n",
      "\n",
      "-- check_kpoints(): The actual k-spacings are  [0.2 0.2 0.2] \n",
      "\n",
      "-- POSCAR was written to Li///Li.static_opt/1.POSCAR \n",
      "\n",
      "-- Attention! ngkpt =  [9, 9, 9]  is adopted from struct_des which you provided for it  Li  and kspacing =  0.2 \n",
      "\n",
      "\n",
      "Calculation ('Li', 'static_opt', 1) successfully created\n",
      "\n",
      " \n",
      "\n",
      "JOBID PARTITION     NAME     USER ST       TIME  NODES NODELIST(REASON) \n",
      "Submitted batch job 1327\n",
      "             JOBID PARTITION     NAME     USER ST       TIME  NODES NODELIST(REASON) \n",
      "              1327   Regular Li.stati t.goryac PD       0:00      1 (None) \n",
      "\n",
      "-- To read results use  res_loop('Li', ['static_opt'], [1], show = 'fo'  )     # , on 2022-11-19   ; possible options for show: fit, fo, fop, en, mag, magp, smag, maga, occ, occ1, mep, mepp \n",
      "\n"
     ]
    },
    {
     "data": {
      "text/plain": [
       "'Li'"
      ]
     },
     "execution_count": 10,
     "metadata": {},
     "output_type": "execute_result"
    }
   ],
   "source": [
    "add('Li', 'static_opt', 1, input_st = st, it_folder = 'Li/', run = 0) #add calculation on cluster"
   ]
  },
  {
   "cell_type": "code",
   "execution_count": 11,
   "metadata": {},
   "outputs": [
    {
     "name": "stdout",
     "output_type": "stream",
     "text": [
      "Warning! TOO FEW BANDS!!!\n",
      "\n",
      "\n",
      "Warning! TOO FEW BANDS!!!\n",
      " \n",
      "\n",
      "\n",
      "\n",
      "Max. F. tot  (meV/A) = \n",
      "[0]; \n",
      "\n",
      "--                           |  energy(eV)|    Vector lenghts (A)   | Stresses (MPa)     | N MD, N SCF    \n",
      "-- db['Li.static_opt.1']         |Li.static_opt.1|  -3.7941   |3.49, 3.49, 3.49|  -536,-536,-536    |   1, 9,  9    \n"
     ]
    },
    {
     "data": {
      "text/plain": [
       "([\"db['Li.static_opt.1']         |Li.static_opt.1|  -3.7941   |3.49, 3.49, 3.49|  -536,-536,-536    |   1, 9,  9   \"],\n",
       " [])"
      ]
     },
     "execution_count": 11,
     "metadata": {},
     "output_type": "execute_result"
    }
   ],
   "source": [
    "res('Li', 'static_opt', 1) #read resuts of calculation"
   ]
  },
  {
   "cell_type": "markdown",
   "metadata": {},
   "source": [
    "**now you can find output files of given calculation in 'your_home_folder/Li/Li.static_opt/'**"
   ]
  },
  {
   "cell_type": "markdown",
   "metadata": {},
   "source": [
    "## Object of Calculation() class"
   ]
  },
  {
   "cell_type": "code",
   "execution_count": 12,
   "metadata": {},
   "outputs": [
    {
     "data": {
      "text/plain": [
       "<siman.classes.CalculationVasp at 0x7f1a9247b550>"
      ]
     },
     "execution_count": 12,
     "metadata": {},
     "output_type": "execute_result"
    }
   ],
   "source": [
    "# as the results of calculation were written into database, you can read it easily by special key\n",
    "db['Li.static_opt.1'] #db[name.set.number]"
   ]
  },
  {
   "cell_type": "code",
   "execution_count": 13,
   "metadata": {},
   "outputs": [
    {
     "name": "stdout",
     "output_type": "stream",
     "text": [
      "['NKPTS', '__class__', '__delattr__', '__dict__', '__dir__', '__doc__', '__eq__', '__format__', '__ge__', '__getattribute__', '__gt__', '__hash__', '__init__', '__init_subclass__', '__le__', '__lt__', '__module__', '__ne__', '__new__', '__reduce__', '__reduce_ex__', '__repr__', '__setattr__', '__sizeof__', '__str__', '__subclasshook__', '__weakref__', 'a', 'actualize_set', 'add_new_name', 'add_potcar', 'associated_outcars', 'average_list', 'bader', 'bader_coseg', 'c', 'calc_kspacings', 'calc_method', 'calculate_nbands', 'calculator', 'check_job_state', 'check_kpoints', 'children', 'cluster', 'cluster_address', 'cluster_home', 'copy', 'copy_to_cluster', 'corenum', 'des', 'deserialize', 'deserialize_json', 'determine_filenames', 'dipole_min_pos', 'dir', 'dos', 'e0', 'e0_at', 'e0_fu', 'e_added_field_ion', 'e_diff', 'e_dipol_quadrupol_cor', 'e_without_entr', 'efermi', 'end', 'energy', 'energy_free', 'energy_sigma0', 'extpress', 'extpress_init', 'full', 'gbpos', 'get_bader_ACF', 'get_chg_file', 'get_file', 'get_kpoints_density', 'get_occ_mat', 'get_path', 'gmt', 'id', 'init', 'intstress', 'isggau', 'iterat', 'jmol', 'kspacing', 'ldauu', 'len_units', 'list_e_conv', 'list_e_sigma0', 'list_e_without_entr', 'mag_diff', 'mag_sum', 'magn1', 'magn2', 'make_incar', 'make_kpoints_file', 'make_run', 'maxforce', 'maxforce_list', 'mdstep', 'me', 'memory', 'memory_max', 'name', 'nbands', 'nelect', 'ngxf', 'occ_diff', 'occ_matrices', 'params', 'path', 'plot_energy_conv', 'plot_energy_force', 'plot_energy_step', 'plot_locpot', 'poscar', 'potcar_lines', 'prev', 'project_path_cluster', 'read_geometry', 'read_pdos_using_phonopy', 'read_poscar', 'read_results', 'res', 'run', 'run_on_server', 'schedule_system', 'serialize', 'serialize_json', 'set', 'set_occ_mat', 'sfolder', 'show_force', 'spin_polarized', 'state', 'stress', 'time', 'update_name', 'vasp_dipole_center', 'version', 'vlength', 'write_geometry', 'write_occmatrix', 'write_sge_script', 'write_siman_geo', 'write_structure', 'xc_inc', 'xc_pot']\n"
     ]
    }
   ],
   "source": [
    "# this is an object of Calculation() class. It has a special methods\n",
    "print(dir(db['Li.static_opt.1']))"
   ]
  },
  {
   "cell_type": "code",
   "execution_count": 14,
   "metadata": {},
   "outputs": [
    {
     "name": "stdout",
     "output_type": "stream",
     "text": [
      "-3.79405601\n"
     ]
    }
   ],
   "source": [
    "#for example you can print a total energy of this atomic configuration\n",
    "print(db['Li.static_opt.1'].e0)"
   ]
  },
  {
   "cell_type": "markdown",
   "metadata": {},
   "source": [
    "## While performing res() we saw a warning message: Warning! TOO FEW BANDS!!!\n",
    "\n",
    "## so we have to check its value and increase"
   ]
  },
  {
   "cell_type": "code",
   "execution_count": 15,
   "metadata": {},
   "outputs": [
    {
     "name": "stdout",
     "output_type": "stream",
     "text": [
      "-- s.vasp_params['EDIFF']         = 1e-05  \n",
      "-- s.vasp_params['NSW']           = 0  \n",
      "-- s.vasp_params['EDIFFG']        = 0  \n",
      "-- s.vasp_params['IBRION']        = 1  \n",
      "-- s.vasp_params['ISIF']          = 2  \n",
      "-- s.vasp_params['ENCUT']         = 300  \n",
      "-- s.vasp_params['ENAUG']         = 700.0  \n",
      "-- s.vasp_params['KSPACING']      = 0.2  \n",
      "-- s.vasp_params['LREAL']         = Auto  \n",
      "-- s.vasp_params['ISMEAR']        = 0  \n",
      "-- s.vasp_params['NBANDS']        = 2  \n",
      "-- ngkpt: [9, 9, 9] \n",
      "\n",
      "-- POTDIR: {300: 'void', 200: 'octa', 0: 'n', 1: 'H', 2: 'He', 3: 'Li', 4: 'Be', 5: 'B', 6: 'C', 7: 'N', 8: 'O', 9: 'F', 10: 'Ne', 11: 'Na', 12: 'Mg', 13: 'Al', 14: 'Si', 15: 'P', 16: 'S', 17: 'Cl', 18: 'Ar', 19: 'K', 20: 'Ca', 21: 'Sc', 22: 'Ti', 23: 'V', 24: 'Cr', 25: 'Mn', 26: 'Fe', 27: 'Co', 28: 'Ni', 29: 'Cu', 30: 'Zn', 31: 'Ga', 32: 'Ge', 33: 'As', 34: 'Se', 35: 'Br', 36: 'Kr', 37: 'Rb', 38: 'Sr', 39: 'Y', 40: 'Zr', 41: 'Nb', 42: 'Mo', 43: 'Tc', 44: 'Ru', 45: 'Rh', 46: 'Pd', 47: 'Ag', 48: 'Cd', 49: 'In', 50: 'Sn', 51: 'Sb', 52: 'Te', 53: 'I', 54: 'Xe', 55: 'Cs', 56: 'Ba', 57: 'La', 58: 'Ce', 59: 'Pr', 60: 'Nd', 61: 'Pm', 62: 'Sm', 63: 'Eu', 64: 'Gd', 65: 'Tb', 66: 'Dy', 67: 'Ho', 68: 'Er', 69: 'Tm', 70: 'Yb', 71: 'Lu', 72: 'Hf', 73: 'Ta', 74: 'W', 75: 'Re', 76: 'Os', 77: 'Ir', 78: 'Pt', 79: 'Au', 80: 'Hg', 81: 'Tl', 82: 'Pb', 83: 'Bi', 84: 'Po', 85: 'At', 86: 'Rn', 87: 'Fr', 88: 'Ra', 89: 'Ac', 90: 'Th', 91: 'Pa', 92: 'U', 93: 'Np', 94: 'Pu', 95: 'Am', 96: 'Cm', 97: 'Bk', 98: 'Cf', 99: 'Es', 100: 'Fm', 101: 'Md', 102: 'No', 103: 'Lr', 104: 'Rf', 105: 'Db', 106: 'Sg', 107: 'Bh', 108: 'Hs', 109: 'Mt', 110: 'Ds', 111: 'Rg', 112: 'Cn', 114: 'Uuq', 116: 'Uuh'} \n"
     ]
    }
   ],
   "source": [
    "db['Li.static_opt.1'].set.printme() #show the VASP parameters of given calculation object"
   ]
  },
  {
   "cell_type": "markdown",
   "metadata": {},
   "source": [
    "## Create new sets with different cut-off energy"
   ]
  },
  {
   "cell_type": "code",
   "execution_count": 6,
   "metadata": {},
   "outputs": [],
   "source": [
    "energy_cutoff_list = range(100, 500, 100)"
   ]
  },
  {
   "cell_type": "code",
   "execution_count": 18,
   "metadata": {},
   "outputs": [
    {
     "name": "stdout",
     "output_type": "stream",
     "text": [
      "\n",
      "Attention! You have chosen to override set static_energy_100\n",
      " \n",
      "\n",
      "\n",
      "Attention! You have chosen to override set static_energy_200\n",
      " \n",
      "\n",
      "\n",
      "Attention! You have chosen to override set static_energy_300\n",
      " \n",
      "\n",
      "Warning! You did not change  ENCUT  in static_energy_300 set\n",
      " \n",
      "\n",
      "\n",
      "Attention! You have chosen to override set static_energy_400\n",
      " \n",
      "\n"
     ]
    }
   ],
   "source": [
    "from siman.set_functions import read_vasp_sets\n",
    "# create new set with 3 times more bands\n",
    "for energy_cut in energy_cutoff_list:\n",
    "    set_name = \"static_energy_\" + str(energy_cut)\n",
    "    varset = read_vasp_sets([(set_name, 'static_opt', {'ENCUT': energy_cut}, 'over')]) "
   ]
  },
  {
   "cell_type": "markdown",
   "metadata": {},
   "source": [
    "## Running calculation with new sets"
   ]
  },
  {
   "cell_type": "code",
   "execution_count": null,
   "metadata": {},
   "outputs": [],
   "source": []
  },
  {
   "cell_type": "code",
   "execution_count": 20,
   "metadata": {},
   "outputs": [
    {
     "name": "stdout",
     "output_type": "stream",
     "text": [
      "-- Attention!, cluster None is not found, using default raz \n",
      "\n",
      "-- check_kpoints(): Kpoint   mesh is:  [9, 9, 9] \n",
      "\n",
      "-- check_kpoints(): The actual k-spacings are  [0.2 0.2 0.2] \n",
      "\n",
      "-- POSCAR was written to Li///Li.static_energy_100/1.POSCAR \n",
      "\n",
      "-- Attention! ngkpt =  [9, 9, 9]  is adopted from struct_des which you provided for it  Li  and kspacing =  0.2 \n",
      "\n",
      "\n",
      "Calculation ('Li', 'static_energy_100', 1) successfully created\n",
      "\n",
      " \n",
      "\n",
      "JOBID PARTITION     NAME     USER ST       TIME  NODES NODELIST(REASON) \n",
      "Submitted batch job 1330\n",
      "             JOBID PARTITION     NAME     USER ST       TIME  NODES NODELIST(REASON) \n",
      "              1330   Regular Li.stati t.goryac PD       0:00      1 (None) \n",
      "\n",
      "-- To read results use  res_loop('Li', ['static_energy_100'], [1], show = 'fo'  )     # , on 2022-11-19   ; possible options for show: fit, fo, fop, en, mag, magp, smag, maga, occ, occ1, mep, mepp \n",
      "\n",
      "-- Attention!, cluster None is not found, using default raz \n",
      "\n",
      "-- check_kpoints(): Kpoint   mesh is:  [9, 9, 9] \n",
      "\n",
      "-- check_kpoints(): The actual k-spacings are  [0.2 0.2 0.2] \n",
      "\n",
      "-- POSCAR was written to Li///Li.static_energy_200/1.POSCAR \n",
      "\n",
      "-- Attention! ngkpt =  [9, 9, 9]  is adopted from struct_des which you provided for it  Li  and kspacing =  0.2 \n",
      "\n",
      "\n",
      "Calculation ('Li', 'static_energy_200', 1) successfully created\n",
      "\n",
      " \n",
      "\n",
      "JOBID PARTITION     NAME     USER ST       TIME  NODES NODELIST(REASON) \n",
      "              1330   Regular Li.stati t.goryac  R       0:02      1 cest-cms-razor \n",
      "Submitted batch job 1331\n",
      "             JOBID PARTITION     NAME     USER ST       TIME  NODES NODELIST(REASON) \n",
      "              1331   Regular Li.stati t.goryac PD       0:00      1 (None) \n",
      "              1330   Regular Li.stati t.goryac  R       0:02      1 cest-cms-razor \n",
      "\n",
      "-- To read results use  res_loop('Li', ['static_energy_200'], [1], show = 'fo'  )     # , on 2022-11-19   ; possible options for show: fit, fo, fop, en, mag, magp, smag, maga, occ, occ1, mep, mepp \n",
      "\n",
      "-- Attention!, cluster None is not found, using default raz \n",
      "\n",
      "-- check_kpoints(): Kpoint   mesh is:  [9, 9, 9] \n",
      "\n",
      "-- check_kpoints(): The actual k-spacings are  [0.2 0.2 0.2] \n",
      "\n",
      "-- POSCAR was written to Li///Li.static_energy_300/1.POSCAR \n",
      "\n",
      "-- Attention! ngkpt =  [9, 9, 9]  is adopted from struct_des which you provided for it  Li  and kspacing =  0.2 \n",
      "\n",
      "\n",
      "Calculation ('Li', 'static_energy_300', 1) successfully created\n",
      "\n",
      " \n",
      "\n",
      "JOBID PARTITION     NAME     USER ST       TIME  NODES NODELIST(REASON) \n",
      "              1330   Regular Li.stati t.goryac  R       0:04      1 cest-cms-razor \n",
      "              1331   Regular Li.stati t.goryac  R       0:01      1 cest-cms-razor \n",
      "Submitted batch job 1332\n",
      "             JOBID PARTITION     NAME     USER ST       TIME  NODES NODELIST(REASON) \n",
      "              1332   Regular Li.stati t.goryac PD       0:00      1 (None) \n",
      "              1330   Regular Li.stati t.goryac  R       0:04      1 cest-cms-razor \n",
      "              1331   Regular Li.stati t.goryac  R       0:01      1 cest-cms-razor \n",
      "\n",
      "-- To read results use  res_loop('Li', ['static_energy_300'], [1], show = 'fo'  )     # , on 2022-11-19   ; possible options for show: fit, fo, fop, en, mag, magp, smag, maga, occ, occ1, mep, mepp \n",
      "\n",
      "-- Attention!, cluster None is not found, using default raz \n",
      "\n",
      "-- check_kpoints(): Kpoint   mesh is:  [9, 9, 9] \n",
      "\n",
      "-- check_kpoints(): The actual k-spacings are  [0.2 0.2 0.2] \n",
      "\n",
      "-- POSCAR was written to Li///Li.static_energy_400/1.POSCAR \n",
      "\n",
      "-- Attention! ngkpt =  [9, 9, 9]  is adopted from struct_des which you provided for it  Li  and kspacing =  0.2 \n",
      "\n",
      "\n",
      "Calculation ('Li', 'static_energy_400', 1) successfully created\n",
      "\n",
      " \n",
      "\n",
      "JOBID PARTITION     NAME     USER ST       TIME  NODES NODELIST(REASON) \n",
      "              1330   Regular Li.stati t.goryac  R       0:07      1 cest-cms-razor \n",
      "              1331   Regular Li.stati t.goryac  R       0:04      1 cest-cms-razor \n",
      "              1332   Regular Li.stati t.goryac  R       0:01      1 cest-cms-razor \n",
      "              1333   Regular Li.stati a.akhmad  R       0:01      1 cest-cms-razor \n",
      "Submitted batch job 1334\n",
      "             JOBID PARTITION     NAME     USER ST       TIME  NODES NODELIST(REASON) \n",
      "              1334   Regular Li.stati t.goryac PD       0:00      1 (None) \n",
      "              1330   Regular Li.stati t.goryac  R       0:07      1 cest-cms-razor \n",
      "              1331   Regular Li.stati t.goryac  R       0:04      1 cest-cms-razor \n",
      "              1332   Regular Li.stati t.goryac  R       0:01      1 cest-cms-razor \n",
      "              1333   Regular Li.stati a.akhmad  R       0:01      1 cest-cms-razor \n",
      "\n",
      "-- To read results use  res_loop('Li', ['static_energy_400'], [1], show = 'fo'  )     # , on 2022-11-19   ; possible options for show: fit, fo, fop, en, mag, magp, smag, maga, occ, occ1, mep, mepp \n",
      "\n"
     ]
    }
   ],
   "source": [
    "for energy_cut in energy_cutoff_list:\n",
    "    set_name = \"static_energy_\" + str(energy_cut)\n",
    "    add('Li', set_name, 1, input_st = st, it_folder = 'Li/',run = 0)"
   ]
  },
  {
   "cell_type": "code",
   "execution_count": 21,
   "metadata": {},
   "outputs": [
    {
     "name": "stdout",
     "output_type": "stream",
     "text": [
      "Warning! TOO FEW BANDS!!!\n",
      "\n",
      "\n",
      "Warning! TOO FEW BANDS!!!\n",
      " \n",
      "\n",
      "\n",
      "\n",
      "Max. F. tot  (meV/A) = \n",
      "[0]; \n",
      "\n",
      "--                           |  energy(eV)|    Vector lenghts (A)   | Stresses (MPa)     | N MD, N SCF    \n",
      "-- db['Li.static_energy_100.1']  |Li.static_energy_100.1|  -3.7716   |3.49, 3.49, 3.49|  -645,-645,-645    |   1, 9,  9    \n",
      "Warning! TOO FEW BANDS!!!\n",
      "\n",
      "\n",
      "Warning! TOO FEW BANDS!!!\n",
      " \n",
      "\n",
      "\n",
      "\n",
      "Max. F. tot  (meV/A) = \n",
      "[0]; \n",
      "\n",
      "--                           |  energy(eV)|    Vector lenghts (A)   | Stresses (MPa)     | N MD, N SCF    \n",
      "-- db['Li.static_energy_200.1']  |Li.static_energy_200.1|  -3.7918   |3.49, 3.49, 3.49|  -550,-550,-550    |   1, 9,  9    \n",
      "Warning! TOO FEW BANDS!!!\n",
      "\n",
      "\n",
      "Warning! TOO FEW BANDS!!!\n",
      " \n",
      "\n",
      "\n",
      "\n",
      "Max. F. tot  (meV/A) = \n",
      "[0]; \n",
      "\n",
      "--                           |  energy(eV)|    Vector lenghts (A)   | Stresses (MPa)     | N MD, N SCF    \n",
      "-- db['Li.static_energy_300.1']  |Li.static_energy_300.1|  -3.7941   |3.49, 3.49, 3.49|  -536,-536,-536    |   1, 9,  9    \n",
      "Warning! TOO FEW BANDS!!!\n",
      "\n",
      "\n",
      "Warning! TOO FEW BANDS!!!\n",
      " \n",
      "\n",
      "\n",
      "\n",
      "Max. F. tot  (meV/A) = \n",
      "[0]; \n",
      "\n",
      "--                           |  energy(eV)|    Vector lenghts (A)   | Stresses (MPa)     | N MD, N SCF    \n",
      "-- db['Li.static_energy_400.1']  |Li.static_energy_400.1|  -3.7944   |3.49, 3.49, 3.49|  -554,-554,-554    |   1, 9,  9    \n"
     ]
    }
   ],
   "source": [
    "for energy_cut in energy_cutoff_list:\n",
    "    set_name = \"static_energy_\" + str(energy_cut)\n",
    "    res('Li', set_name, 1) #read results of calculation with new set"
   ]
  },
  {
   "cell_type": "markdown",
   "metadata": {},
   "source": [
    "**Warning has been absent!!!**"
   ]
  },
  {
   "cell_type": "code",
   "execution_count": null,
   "metadata": {},
   "outputs": [],
   "source": []
  },
  {
   "cell_type": "code",
   "execution_count": null,
   "metadata": {},
   "outputs": [],
   "source": []
  },
  {
   "cell_type": "code",
   "execution_count": 22,
   "metadata": {},
   "outputs": [
    {
     "name": "stdout",
     "output_type": "stream",
     "text": [
      "\n",
      "Database has been successfully updated\n",
      "\n"
     ]
    }
   ],
   "source": [
    "write_database() #writing all the results into database"
   ]
  },
  {
   "cell_type": "markdown",
   "metadata": {},
   "source": [
    "## Compare total energies calculated with different sets"
   ]
  },
  {
   "cell_type": "code",
   "execution_count": 7,
   "metadata": {},
   "outputs": [],
   "source": [
    "energy_total_list = [db[\"Li\", \"static_energy_\" + str(energy_cut), 1].e0 for energy_cut in energy_cutoff_list]\n",
    "\n",
    "energy_relative_list = [(energy_total_list[i] - energy_total_list[-1])*1e3 for i in range(len(energy_cutoff_list))]  \n",
    "\n",
    "const_list = [db[\"Li\", \"static_energy_\" + str(energy_cut), 1].end.rprimd[0][0] for energy_cut in energy_cutoff_list]\n"
   ]
  },
  {
   "cell_type": "code",
   "execution_count": 24,
   "metadata": {},
   "outputs": [
    {
     "data": {
      "text/plain": [
       "Text(152, -3.79441415, '0.1 % accuracy')"
      ]
     },
     "execution_count": 24,
     "metadata": {},
     "output_type": "execute_result"
    },
    {
     "data": {
      "image/png": "[encoded data removed]",
      "text/plain": [
       "<Figure size 576x576 with 1 Axes>"
      ]
     },
     "metadata": {},
     "output_type": "display_data"
    }
   ],
   "source": [
    "fig, ax1 = plt.subplots()\n",
    "fig.set_size_inches(8, 8)\n",
    "\n",
    "ax1.set_ylabel(r'Total energy (eV)', fontsize=20)\n",
    "ax1.set_xlabel(r'Cut-off radius (eV)', fontsize=20)\n",
    "ax1.set_title(\"Total energy as function of cut-off radius\", fontsize=20)\n",
    "ax1.xaxis.set_tick_params(labelsize=16)\n",
    "ax1.yaxis.set_tick_params(labelsize=16)\n",
    "\n",
    "ax1.plot(energy_cutoff_list, energy_total_list, \"--\", c=\"r\", lw=2)\n",
    "ax1.scatter(energy_cutoff_list, energy_total_list, s=100,  color=\"red\")\n",
    "\n",
    "xl = ax1.get_xlim()\n",
    "ax1.plot(xl, [energy_total_list[-1]*0.999, energy_total_list[-1]*0.999], c='black')\n",
    "ax1.plot(xl, [energy_total_list[-1]*1.001, energy_total_list[-1]*1.001], c='black')\n",
    "plt.annotate(s=\"\", xy=(150, energy_total_list[-1]*0.999), xytext=(150, energy_total_list[-1]*1.001),\n",
    "             arrowprops=dict(arrowstyle='<->'))\n",
    "plt.annotate(\"0.1 % accuracy\", xy=(152,energy_total_list[-1]), fontsize=12 )\n",
    "\n"
   ]
  },
  {
   "cell_type": "code",
   "execution_count": 9,
   "metadata": {},
   "outputs": [
    {
     "data": {
      "text/plain": [
       "<matplotlib.collections.PathCollection at 0x7fb4d63440f0>"
      ]
     },
     "execution_count": 9,
     "metadata": {},
     "output_type": "execute_result"
    },
    {
     "data": {
      "image/png": "[encoded data removed]",
      "text/plain": [
       "<Figure size 576x576 with 1 Axes>"
      ]
     },
     "metadata": {},
     "output_type": "display_data"
    }
   ],
   "source": [
    "fig, ax1 = plt.subplots()\n",
    "fig.set_size_inches(8, 8)\n",
    "\n",
    "ax1.set_ylabel(r'Relative energy (meV)', fontsize=20)\n",
    "ax1.set_xlabel(r'Cut-off radius (eV)', fontsize=20)\n",
    "ax1.set_title(r\"Relative energy ($E_{500}-E_{i}$) as function of cut-off radius\", fontsize=20)\n",
    "ax1.xaxis.set_tick_params(labelsize=16)\n",
    "ax1.yaxis.set_tick_params(labelsize=16)\n",
    "\n",
    "ax1.plot(energy_cutoff_list, energy_relative_list, \"--\", c=\"r\", lw=2)\n",
    "ax1.scatter(energy_cutoff_list, energy_relative_list, s=100,  color=\"red\")"
   ]
  },
  {
   "cell_type": "code",
   "execution_count": null,
   "metadata": {},
   "outputs": [],
   "source": []
  },
  {
   "cell_type": "code",
   "execution_count": null,
   "metadata": {},
   "outputs": [],
   "source": []
  },
  {
   "cell_type": "markdown",
   "metadata": {},
   "source": [
    "## What else to consider? \n",
    "Sampling of the Brillouin zone ($k$-points)\n",
    "\n",
    "Width of smearing ($\\sigma$)\n",
    "\n",
    "Number of Kohn-Sham or Quasiparticle orbitals (NBANDS)\n",
    "\n",
    "Spin state, magnetic moments, convergence criteria, etc."
   ]
  },
  {
   "cell_type": "code",
   "execution_count": null,
   "metadata": {},
   "outputs": [],
   "source": []
  },
  {
   "cell_type": "code",
   "execution_count": null,
   "metadata": {},
   "outputs": [],
   "source": []
  }
 ],
 "metadata": {
  "kernelspec": {
   "display_name": "Python 3",
   "language": "python",
   "name": "python3"
  },
  "language_info": {
   "codemirror_mode": {
    "name": "ipython",
    "version": 3
   },
   "file_extension": ".py",
   "mimetype": "text/x-python",
   "name": "python",
   "nbconvert_exporter": "python",
   "pygments_lexer": "ipython3",
   "version": "3.6.5"
  }
 },
 "nbformat": 4,
 "nbformat_minor": 2
}
