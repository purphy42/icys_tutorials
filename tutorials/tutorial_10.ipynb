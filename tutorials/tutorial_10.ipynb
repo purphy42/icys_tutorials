{
 "cells": [
  {
   "cell_type": "markdown",
   "metadata": {},
   "source": [
    "# Tutorial 10: Migration barriers from BVEL method"
   ]
  },
  {
   "cell_type": "markdown",
   "metadata": {},
   "source": [
    "## Import libraries"
   ]
  },
  {
   "cell_type": "code",
   "execution_count": 1,
   "metadata": {},
   "outputs": [
    {
     "name": "stdout",
     "output_type": "stream",
     "text": [
      "/home/t.goryacheva/simanrc.py was read\n"
     ]
    }
   ],
   "source": [
    "import siman #program package to manage DFT calculations https://github.com/dimonaks/siman\n",
    "from siman.calc_manage import smart_structure_read, get_structure_from_matproj\n",
    "from siman.calc_manage import add, res\n",
    "from siman.set_functions import read_vasp_sets\n",
    "from siman.database import write_database, read_database\n",
    "from siman.header import db\n",
    "read_database() # read saved database if available\n",
    "import project_sets # should be after read_database\n",
    "varset = read_vasp_sets(project_sets.user_vasp_sets, override_global = 0) #read user sets\n",
    "\n",
    "\n",
    "%matplotlib inline"
   ]
  },
  {
   "cell_type": "markdown",
   "metadata": {},
   "source": [
    "## Bond valence energy landscape"
   ]
  },
  {
   "cell_type": "code",
   "execution_count": 4,
   "metadata": {},
   "outputs": [
    {
     "name": "stdout",
     "output_type": "stream",
     "text": [
      "Collecting bvlain\n",
      "  Using cached https://files.pythonhosted.org/packages/7c/80/1d9c08778b9b9c0627d64fc82a1a409d69c099c4f1e03076f351f95929ac/bvlain-0.1.8-py3-none-any.whl\n",
      "Requirement already satisfied: scipy in /usr/local/lib/python3.4/dist-packages (from bvlain) (0.18.1)\n",
      "Requirement already satisfied: numpy in /usr/local/lib/python3.4/dist-packages (from bvlain) (1.12.0)\n",
      "Requirement already satisfied: pymatgen in /usr/local/lib/python3.4/dist-packages (from bvlain) (4.6.1)\n",
      "Requirement already satisfied: ase in /usr/local/lib/python3.4/dist-packages (from bvlain) (3.13.0)\n",
      "Requirement already satisfied: pandas in /usr/local/lib/python3.4/dist-packages (from bvlain) (0.19.2)\n",
      "Collecting networkx (from bvlain)\n",
      "Requirement already satisfied: six in /usr/local/lib/python3.4/dist-packages (from pymatgen->bvlain) (1.10.0)\n",
      "Requirement already satisfied: requests in /usr/lib/python3/dist-packages (from pymatgen->bvlain) (2.2.1)\n",
      "Requirement already satisfied: pyyaml>=3.11 in /usr/local/lib/python3.4/dist-packages (from pymatgen->bvlain) (3.12)\n",
      "Requirement already satisfied: monty>=0.9.6 in /usr/local/lib/python3.4/dist-packages (from pymatgen->bvlain) (0.9.6)\n",
      "Requirement already satisfied: pydispatcher>=2.0.5 in /usr/local/lib/python3.4/dist-packages (from pymatgen->bvlain) (2.0.5)\n",
      "Requirement already satisfied: tabulate in /usr/local/lib/python3.4/dist-packages (from pymatgen->bvlain) (0.7.7)\n",
      "Requirement already satisfied: spglib>=1.9.8.7 in /usr/local/lib/python3.4/dist-packages (from pymatgen->bvlain) (1.9.9.18)\n",
      "Requirement already satisfied: matplotlib>=1.5 in /usr/local/lib/python3.4/dist-packages (from pymatgen->bvlain) (2.0.0)\n",
      "Requirement already satisfied: palettable>=2.1.1 in /usr/local/lib/python3.4/dist-packages (from pymatgen->bvlain) (2.1.1)\n",
      "Requirement already satisfied: python-dateutil>=2 in /usr/lib/python3/dist-packages (from pandas->bvlain) (2.0)\n",
      "Requirement already satisfied: pytz>=2011k in /usr/lib/python3/dist-packages (from pandas->bvlain) (2012rc0)\n",
      "Collecting decorator>=4.3.0 (from networkx->bvlain)\n",
      "  Using cached https://files.pythonhosted.org/packages/ed/1b/72a1821152d07cf1d8b6fce298aeb06a7eb90f4d6d41acec9861e7cc6df0/decorator-4.4.2-py2.py3-none-any.whl\n",
      "Requirement already satisfied: cycler>=0.10 in /usr/local/lib/python3.4/dist-packages (from matplotlib>=1.5->pymatgen->bvlain) (0.10.0)\n",
      "Requirement already satisfied: pyparsing!=2.0.4,!=2.1.2,!=2.1.6,>=1.5.6 in /usr/lib/python3/dist-packages (from matplotlib>=1.5->pymatgen->bvlain) (2.0.1)\n",
      "Installing collected packages: decorator, networkx, bvlain\n",
      "Successfully installed bvlain-0.1.8 decorator-4.4.2 networkx-2.2\n"
     ]
    }
   ],
   "source": [
    "!pip install bvlain --user\n"
   ]
  },
  {
   "cell_type": "code",
   "execution_count": null,
   "metadata": {},
   "outputs": [],
   "source": []
  },
  {
   "cell_type": "code",
   "execution_count": null,
   "metadata": {},
   "outputs": [],
   "source": []
  },
  {
   "cell_type": "code",
   "execution_count": null,
   "metadata": {},
   "outputs": [],
   "source": [
    "write_database()"
   ]
  },
  {
   "cell_type": "code",
   "execution_count": null,
   "metadata": {},
   "outputs": [],
   "source": []
  },
  {
   "cell_type": "code",
   "execution_count": null,
   "metadata": {},
   "outputs": [],
   "source": []
  },
  {
   "cell_type": "code",
   "execution_count": null,
   "metadata": {},
   "outputs": [],
   "source": []
  }
 ],
 "metadata": {
  "kernelspec": {
   "display_name": "Python 3",
   "language": "python",
   "name": "python3"
  },
  "language_info": {
   "codemirror_mode": {
    "name": "ipython",
    "version": 3
   },
   "file_extension": ".py",
   "mimetype": "text/x-python",
   "name": "python",
   "nbconvert_exporter": "python",
   "pygments_lexer": "ipython3",
   "version": "3.6.5"
  }
 },
 "nbformat": 4,
 "nbformat_minor": 2
}
